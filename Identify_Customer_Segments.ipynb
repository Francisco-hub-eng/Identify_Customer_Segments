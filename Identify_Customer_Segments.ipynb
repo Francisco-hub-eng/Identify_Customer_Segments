{
 "cells": [
  {
   "cell_type": "markdown",
   "metadata": {},
   "source": [
    "# Project: Identify Customer Segments\n",
    "\n",
    "In this project, you will apply unsupervised learning techniques to identify segments of the population that form the core customer base for a mail-order sales company in Germany. These segments can then be used to direct marketing campaigns towards audiences that will have the highest expected rate of returns. The data that you will use has been provided by our partners at Bertelsmann Arvato Analytics, and represents a real-life data science task.\n",
    "\n",
    "This notebook will help you complete this task by providing a framework within which you will perform your analysis steps. In each step of the project, you will see some text describing the subtask that you will perform, followed by one or more code cells for you to complete your work. **Feel free to add additional code and markdown cells as you go along so that you can explore everything in precise chunks.** The code cells provided in the base template will outline only the major tasks, and will usually not be enough to cover all of the minor tasks that comprise it.\n",
    "\n",
    "It should be noted that while there will be precise guidelines on how you should handle certain tasks in the project, there will also be places where an exact specification is not provided. **There will be times in the project where you will need to make and justify your own decisions on how to treat the data.** These are places where there may not be only one way to handle the data. In real-life tasks, there may be many valid ways to approach an analysis task. One of the most important things you can do is clearly document your approach so that other scientists can understand the decisions you've made.\n",
    "\n",
    "At the end of most sections, there will be a Markdown cell labeled **Discussion**. In these cells, you will report your findings for the completed section, as well as document the decisions that you made in your approach to each subtask. **Your project will be evaluated not just on the code used to complete the tasks outlined, but also your communication about your observations and conclusions at each stage.**"
   ]
  },
  {
   "cell_type": "code",
   "execution_count": 1,
   "metadata": {},
   "outputs": [
    {
     "data": {
      "text/plain": [
       "'\\nImport note: The classroom currently uses sklearn version 0.19.\\nIf you need to use an imputer, it is available in sklearn.preprocessing.Imputer,\\ninstead of sklearn.impute as in newer versions of sklearn.\\n'"
      ]
     },
     "execution_count": 1,
     "metadata": {},
     "output_type": "execute_result"
    }
   ],
   "source": [
    "# import libraries here; add more as necessary\n",
    "import numpy as np\n",
    "import pandas as pd\n",
    "import matplotlib.pyplot as plt\n",
    "import seaborn as sns\n",
    "\n",
    "\n",
    "# magic word for producing visualizations in notebook\n",
    "%matplotlib inline\n",
    "import markdown\n",
    "from bs4 import BeautifulSoup\n",
    "import math\n",
    "from sklearn.preprocessing import StandardScaler\n",
    "from sklearn.decomposition import PCA\n",
    "from sklearn.cluster import KMeans\n",
    "from matplotlib.pyplot import figure\n",
    "\n",
    "'''\n",
    "Import note: The classroom currently uses sklearn version 0.19.\n",
    "If you need to use an imputer, it is available in sklearn.preprocessing.Imputer,\n",
    "instead of sklearn.impute as in newer versions of sklearn.\n",
    "'''"
   ]
  },
  {
   "cell_type": "markdown",
   "metadata": {},
   "source": [
    "### Step 0: Load the Data\n",
    "\n",
    "There are four files associated with this project (not including this one):\n",
    "\n",
    "- `Udacity_AZDIAS_Subset.csv`: Demographics data for the general population of Germany; 891211 persons (rows) x 85 features (columns).\n",
    "- `Udacity_CUSTOMERS_Subset.csv`: Demographics data for customers of a mail-order company; 191652 persons (rows) x 85 features (columns).\n",
    "- `Data_Dictionary.md`: Detailed information file about the features in the provided datasets.\n",
    "- `AZDIAS_Feature_Summary.csv`: Summary of feature attributes for demographics data; 85 features (rows) x 4 columns\n",
    "\n",
    "Each row of the demographics files represents a single person, but also includes information outside of individuals, including information about their household, building, and neighborhood. You will use this information to cluster the general population into groups with similar demographic properties. Then, you will see how the people in the customers dataset fit into those created clusters. The hope here is that certain clusters are over-represented in the customers data, as compared to the general population; those over-represented clusters will be assumed to be part of the core userbase. This information can then be used for further applications, such as targeting for a marketing campaign.\n",
    "\n",
    "To start off with, load in the demographics data for the general population into a pandas DataFrame, and do the same for the feature attributes summary. Note for all of the `.csv` data files in this project: they're semicolon (`;`) delimited, so you'll need an additional argument in your [`read_csv()`](https://pandas.pydata.org/pandas-docs/stable/generated/pandas.read_csv.html) call to read in the data properly. Also, considering the size of the main dataset, it may take some time for it to load completely.\n",
    "\n",
    "Once the dataset is loaded, it's recommended that you take a little bit of time just browsing the general structure of the dataset and feature summary file. You'll be getting deep into the innards of the cleaning in the first major step of the project, so gaining some general familiarity can help you get your bearings."
   ]
  },
  {
   "cell_type": "code",
   "execution_count": 2,
   "metadata": {},
   "outputs": [],
   "source": [
    "# Load in the general demographics data.\n",
    "azdias = pd.read_csv('Udacity_AZDIAS_Subset.csv', sep = ';')\n",
    "\n",
    "# Load in the feature summary file.\n",
    "feat_info = pd.read_csv('AZDIAS_Feature_Summary.csv', sep = ';')"
   ]
  },
  {
   "cell_type": "code",
   "execution_count": 3,
   "metadata": {},
   "outputs": [
    {
     "name": "stdout",
     "output_type": "stream",
     "text": [
      "(891221, 85)\n"
     ]
    },
    {
     "data": {
      "text/html": [
       "<div>\n",
       "<style scoped>\n",
       "    .dataframe tbody tr th:only-of-type {\n",
       "        vertical-align: middle;\n",
       "    }\n",
       "\n",
       "    .dataframe tbody tr th {\n",
       "        vertical-align: top;\n",
       "    }\n",
       "\n",
       "    .dataframe thead th {\n",
       "        text-align: right;\n",
       "    }\n",
       "</style>\n",
       "<table border=\"1\" class=\"dataframe\">\n",
       "  <thead>\n",
       "    <tr style=\"text-align: right;\">\n",
       "      <th></th>\n",
       "      <th>AGER_TYP</th>\n",
       "      <th>ALTERSKATEGORIE_GROB</th>\n",
       "      <th>ANREDE_KZ</th>\n",
       "      <th>CJT_GESAMTTYP</th>\n",
       "      <th>FINANZ_MINIMALIST</th>\n",
       "      <th>FINANZ_SPARER</th>\n",
       "      <th>FINANZ_VORSORGER</th>\n",
       "      <th>FINANZ_ANLEGER</th>\n",
       "      <th>FINANZ_UNAUFFAELLIGER</th>\n",
       "      <th>FINANZ_HAUSBAUER</th>\n",
       "      <th>...</th>\n",
       "      <th>PLZ8_ANTG1</th>\n",
       "      <th>PLZ8_ANTG2</th>\n",
       "      <th>PLZ8_ANTG3</th>\n",
       "      <th>PLZ8_ANTG4</th>\n",
       "      <th>PLZ8_BAUMAX</th>\n",
       "      <th>PLZ8_HHZ</th>\n",
       "      <th>PLZ8_GBZ</th>\n",
       "      <th>ARBEIT</th>\n",
       "      <th>ORTSGR_KLS9</th>\n",
       "      <th>RELAT_AB</th>\n",
       "    </tr>\n",
       "  </thead>\n",
       "  <tbody>\n",
       "    <tr>\n",
       "      <th>0</th>\n",
       "      <td>-1</td>\n",
       "      <td>2</td>\n",
       "      <td>1</td>\n",
       "      <td>2.0</td>\n",
       "      <td>3</td>\n",
       "      <td>4</td>\n",
       "      <td>3</td>\n",
       "      <td>5</td>\n",
       "      <td>5</td>\n",
       "      <td>3</td>\n",
       "      <td>...</td>\n",
       "      <td>NaN</td>\n",
       "      <td>NaN</td>\n",
       "      <td>NaN</td>\n",
       "      <td>NaN</td>\n",
       "      <td>NaN</td>\n",
       "      <td>NaN</td>\n",
       "      <td>NaN</td>\n",
       "      <td>NaN</td>\n",
       "      <td>NaN</td>\n",
       "      <td>NaN</td>\n",
       "    </tr>\n",
       "    <tr>\n",
       "      <th>1</th>\n",
       "      <td>-1</td>\n",
       "      <td>1</td>\n",
       "      <td>2</td>\n",
       "      <td>5.0</td>\n",
       "      <td>1</td>\n",
       "      <td>5</td>\n",
       "      <td>2</td>\n",
       "      <td>5</td>\n",
       "      <td>4</td>\n",
       "      <td>5</td>\n",
       "      <td>...</td>\n",
       "      <td>2.0</td>\n",
       "      <td>3.0</td>\n",
       "      <td>2.0</td>\n",
       "      <td>1.0</td>\n",
       "      <td>1.0</td>\n",
       "      <td>5.0</td>\n",
       "      <td>4.0</td>\n",
       "      <td>3.0</td>\n",
       "      <td>5.0</td>\n",
       "      <td>4.0</td>\n",
       "    </tr>\n",
       "    <tr>\n",
       "      <th>2</th>\n",
       "      <td>-1</td>\n",
       "      <td>3</td>\n",
       "      <td>2</td>\n",
       "      <td>3.0</td>\n",
       "      <td>1</td>\n",
       "      <td>4</td>\n",
       "      <td>1</td>\n",
       "      <td>2</td>\n",
       "      <td>3</td>\n",
       "      <td>5</td>\n",
       "      <td>...</td>\n",
       "      <td>3.0</td>\n",
       "      <td>3.0</td>\n",
       "      <td>1.0</td>\n",
       "      <td>0.0</td>\n",
       "      <td>1.0</td>\n",
       "      <td>4.0</td>\n",
       "      <td>4.0</td>\n",
       "      <td>3.0</td>\n",
       "      <td>5.0</td>\n",
       "      <td>2.0</td>\n",
       "    </tr>\n",
       "    <tr>\n",
       "      <th>3</th>\n",
       "      <td>2</td>\n",
       "      <td>4</td>\n",
       "      <td>2</td>\n",
       "      <td>2.0</td>\n",
       "      <td>4</td>\n",
       "      <td>2</td>\n",
       "      <td>5</td>\n",
       "      <td>2</td>\n",
       "      <td>1</td>\n",
       "      <td>2</td>\n",
       "      <td>...</td>\n",
       "      <td>2.0</td>\n",
       "      <td>2.0</td>\n",
       "      <td>2.0</td>\n",
       "      <td>0.0</td>\n",
       "      <td>1.0</td>\n",
       "      <td>3.0</td>\n",
       "      <td>4.0</td>\n",
       "      <td>2.0</td>\n",
       "      <td>3.0</td>\n",
       "      <td>3.0</td>\n",
       "    </tr>\n",
       "    <tr>\n",
       "      <th>4</th>\n",
       "      <td>-1</td>\n",
       "      <td>3</td>\n",
       "      <td>1</td>\n",
       "      <td>5.0</td>\n",
       "      <td>4</td>\n",
       "      <td>3</td>\n",
       "      <td>4</td>\n",
       "      <td>1</td>\n",
       "      <td>3</td>\n",
       "      <td>2</td>\n",
       "      <td>...</td>\n",
       "      <td>2.0</td>\n",
       "      <td>4.0</td>\n",
       "      <td>2.0</td>\n",
       "      <td>1.0</td>\n",
       "      <td>2.0</td>\n",
       "      <td>3.0</td>\n",
       "      <td>3.0</td>\n",
       "      <td>4.0</td>\n",
       "      <td>6.0</td>\n",
       "      <td>5.0</td>\n",
       "    </tr>\n",
       "  </tbody>\n",
       "</table>\n",
       "<p>5 rows × 85 columns</p>\n",
       "</div>"
      ],
      "text/plain": [
       "   AGER_TYP  ALTERSKATEGORIE_GROB  ANREDE_KZ  CJT_GESAMTTYP  \\\n",
       "0        -1                     2          1            2.0   \n",
       "1        -1                     1          2            5.0   \n",
       "2        -1                     3          2            3.0   \n",
       "3         2                     4          2            2.0   \n",
       "4        -1                     3          1            5.0   \n",
       "\n",
       "   FINANZ_MINIMALIST  FINANZ_SPARER  FINANZ_VORSORGER  FINANZ_ANLEGER  \\\n",
       "0                  3              4                 3               5   \n",
       "1                  1              5                 2               5   \n",
       "2                  1              4                 1               2   \n",
       "3                  4              2                 5               2   \n",
       "4                  4              3                 4               1   \n",
       "\n",
       "   FINANZ_UNAUFFAELLIGER  FINANZ_HAUSBAUER    ...     PLZ8_ANTG1  PLZ8_ANTG2  \\\n",
       "0                      5                 3    ...            NaN         NaN   \n",
       "1                      4                 5    ...            2.0         3.0   \n",
       "2                      3                 5    ...            3.0         3.0   \n",
       "3                      1                 2    ...            2.0         2.0   \n",
       "4                      3                 2    ...            2.0         4.0   \n",
       "\n",
       "   PLZ8_ANTG3  PLZ8_ANTG4  PLZ8_BAUMAX  PLZ8_HHZ  PLZ8_GBZ  ARBEIT  \\\n",
       "0         NaN         NaN          NaN       NaN       NaN     NaN   \n",
       "1         2.0         1.0          1.0       5.0       4.0     3.0   \n",
       "2         1.0         0.0          1.0       4.0       4.0     3.0   \n",
       "3         2.0         0.0          1.0       3.0       4.0     2.0   \n",
       "4         2.0         1.0          2.0       3.0       3.0     4.0   \n",
       "\n",
       "   ORTSGR_KLS9  RELAT_AB  \n",
       "0          NaN       NaN  \n",
       "1          5.0       4.0  \n",
       "2          5.0       2.0  \n",
       "3          3.0       3.0  \n",
       "4          6.0       5.0  \n",
       "\n",
       "[5 rows x 85 columns]"
      ]
     },
     "execution_count": 3,
     "metadata": {},
     "output_type": "execute_result"
    }
   ],
   "source": [
    "# Check the structure of the data after it's loaded (e.g. print the number of\n",
    "# rows and columns, print the first few rows).\n",
    "\n",
    "print(azdias.shape)\n",
    "azdias.head()"
   ]
  },
  {
   "cell_type": "code",
   "execution_count": 4,
   "metadata": {
    "scrolled": false
   },
   "outputs": [
    {
     "data": {
      "text/html": [
       "<div>\n",
       "<style scoped>\n",
       "    .dataframe tbody tr th:only-of-type {\n",
       "        vertical-align: middle;\n",
       "    }\n",
       "\n",
       "    .dataframe tbody tr th {\n",
       "        vertical-align: top;\n",
       "    }\n",
       "\n",
       "    .dataframe thead th {\n",
       "        text-align: right;\n",
       "    }\n",
       "</style>\n",
       "<table border=\"1\" class=\"dataframe\">\n",
       "  <thead>\n",
       "    <tr style=\"text-align: right;\">\n",
       "      <th></th>\n",
       "      <th>attribute</th>\n",
       "      <th>information_level</th>\n",
       "      <th>type</th>\n",
       "      <th>missing_or_unknown</th>\n",
       "    </tr>\n",
       "  </thead>\n",
       "  <tbody>\n",
       "    <tr>\n",
       "      <th>0</th>\n",
       "      <td>AGER_TYP</td>\n",
       "      <td>person</td>\n",
       "      <td>categorical</td>\n",
       "      <td>[-1,0]</td>\n",
       "    </tr>\n",
       "    <tr>\n",
       "      <th>1</th>\n",
       "      <td>ALTERSKATEGORIE_GROB</td>\n",
       "      <td>person</td>\n",
       "      <td>ordinal</td>\n",
       "      <td>[-1,0,9]</td>\n",
       "    </tr>\n",
       "    <tr>\n",
       "      <th>2</th>\n",
       "      <td>ANREDE_KZ</td>\n",
       "      <td>person</td>\n",
       "      <td>categorical</td>\n",
       "      <td>[-1,0]</td>\n",
       "    </tr>\n",
       "    <tr>\n",
       "      <th>3</th>\n",
       "      <td>CJT_GESAMTTYP</td>\n",
       "      <td>person</td>\n",
       "      <td>categorical</td>\n",
       "      <td>[0]</td>\n",
       "    </tr>\n",
       "    <tr>\n",
       "      <th>4</th>\n",
       "      <td>FINANZ_MINIMALIST</td>\n",
       "      <td>person</td>\n",
       "      <td>ordinal</td>\n",
       "      <td>[-1]</td>\n",
       "    </tr>\n",
       "  </tbody>\n",
       "</table>\n",
       "</div>"
      ],
      "text/plain": [
       "              attribute information_level         type missing_or_unknown\n",
       "0              AGER_TYP            person  categorical             [-1,0]\n",
       "1  ALTERSKATEGORIE_GROB            person      ordinal           [-1,0,9]\n",
       "2             ANREDE_KZ            person  categorical             [-1,0]\n",
       "3         CJT_GESAMTTYP            person  categorical                [0]\n",
       "4     FINANZ_MINIMALIST            person      ordinal               [-1]"
      ]
     },
     "execution_count": 4,
     "metadata": {},
     "output_type": "execute_result"
    }
   ],
   "source": [
    "# first rows of feat_info\n",
    "feat_info.head()"
   ]
  },
  {
   "cell_type": "markdown",
   "metadata": {},
   "source": [
    "> **Tip**: Add additional cells to keep everything in reasonably-sized chunks! Keyboard shortcut `esc --> a` (press escape to enter command mode, then press the 'A' key) adds a new cell before the active cell, and `esc --> b` adds a new cell after the active cell. If you need to convert an active cell to a markdown cell, use `esc --> m` and to convert to a code cell, use `esc --> y`. \n",
    "\n",
    "## Step 1: Preprocessing\n",
    "\n",
    "### Step 1.1: Assess Missing Data\n",
    "\n",
    "The feature summary file contains a summary of properties for each demographics data column. You will use this file to help you make cleaning decisions during this stage of the project. First of all, you should assess the demographics data in terms of missing data. Pay attention to the following points as you perform your analysis, and take notes on what you observe. Make sure that you fill in the **Discussion** cell with your findings and decisions at the end of each step that has one!\n",
    "\n",
    "#### Step 1.1.1: Convert Missing Value Codes to NaNs\n",
    "The fourth column of the feature attributes summary (loaded in above as `feat_info`) documents the codes from the data dictionary that indicate missing or unknown data. While the file encodes this as a list (e.g. `[-1,0]`), this will get read in as a string object. You'll need to do a little bit of parsing to make use of it to identify and clean the data. Convert data that matches a 'missing' or 'unknown' value code into a numpy NaN value. You might want to see how much data takes on a 'missing' or 'unknown' code, and how much data is naturally missing, as a point of interest.\n",
    "\n",
    "**As one more reminder, you are encouraged to add additional cells to break up your analysis into manageable chunks.**"
   ]
  },
  {
   "cell_type": "code",
   "execution_count": 5,
   "metadata": {},
   "outputs": [
    {
     "data": {
      "text/plain": [
       "[-1]        26\n",
       "[-1,9]      17\n",
       "[-1,0]      16\n",
       "[0]         12\n",
       "[]          10\n",
       "[-1,X]       1\n",
       "[-1,XX]      1\n",
       "[XX]         1\n",
       "[-1,0,9]     1\n",
       "Name: missing_or_unknown, dtype: int64"
      ]
     },
     "execution_count": 5,
     "metadata": {},
     "output_type": "execute_result"
    }
   ],
   "source": [
    "# Identify missing or unknown data values and convert them to NaNs.\n",
    "feat_info.missing_or_unknown.value_counts()"
   ]
  },
  {
   "cell_type": "code",
   "execution_count": 6,
   "metadata": {},
   "outputs": [
    {
     "data": {
      "text/plain": [
       "True"
      ]
     },
     "execution_count": 6,
     "metadata": {},
     "output_type": "execute_result"
    }
   ],
   "source": [
    "# Data has naturally missing NaN values?\n",
    "azdias.isnull().values.any()"
   ]
  },
  {
   "cell_type": "code",
   "execution_count": 7,
   "metadata": {},
   "outputs": [
    {
     "data": {
      "text/plain": [
       "4896838"
      ]
     },
     "execution_count": 7,
     "metadata": {},
     "output_type": "execute_result"
    }
   ],
   "source": [
    "# total natural nan in database\n",
    "natural_nan_total = azdias.isnull().sum().sum()\n",
    "natural_nan_total"
   ]
  },
  {
   "cell_type": "code",
   "execution_count": 8,
   "metadata": {},
   "outputs": [
    {
     "data": {
      "text/plain": [
       "array(['categorical', 'ordinal', 'numeric', 'mixed', 'interval'], dtype=object)"
      ]
     },
     "execution_count": 8,
     "metadata": {},
     "output_type": "execute_result"
    }
   ],
   "source": [
    "# types of data missing or unknown\n",
    "feat_info.type.unique()"
   ]
  },
  {
   "cell_type": "code",
   "execution_count": 9,
   "metadata": {},
   "outputs": [
    {
     "data": {
      "text/html": [
       "<div>\n",
       "<style scoped>\n",
       "    .dataframe tbody tr th:only-of-type {\n",
       "        vertical-align: middle;\n",
       "    }\n",
       "\n",
       "    .dataframe tbody tr th {\n",
       "        vertical-align: top;\n",
       "    }\n",
       "\n",
       "    .dataframe thead th {\n",
       "        text-align: right;\n",
       "    }\n",
       "</style>\n",
       "<table border=\"1\" class=\"dataframe\">\n",
       "  <thead>\n",
       "    <tr style=\"text-align: right;\">\n",
       "      <th></th>\n",
       "      <th>attribute</th>\n",
       "      <th>information_level</th>\n",
       "      <th>type</th>\n",
       "      <th>missing_or_unknown</th>\n",
       "    </tr>\n",
       "  </thead>\n",
       "  <tbody>\n",
       "    <tr>\n",
       "      <th>15</th>\n",
       "      <td>LP_LEBENSPHASE_FEIN</td>\n",
       "      <td>person</td>\n",
       "      <td>mixed</td>\n",
       "      <td>[0]</td>\n",
       "    </tr>\n",
       "    <tr>\n",
       "      <th>16</th>\n",
       "      <td>LP_LEBENSPHASE_GROB</td>\n",
       "      <td>person</td>\n",
       "      <td>mixed</td>\n",
       "      <td>[0]</td>\n",
       "    </tr>\n",
       "    <tr>\n",
       "      <th>22</th>\n",
       "      <td>PRAEGENDE_JUGENDJAHRE</td>\n",
       "      <td>person</td>\n",
       "      <td>mixed</td>\n",
       "      <td>[-1,0]</td>\n",
       "    </tr>\n",
       "    <tr>\n",
       "      <th>56</th>\n",
       "      <td>WOHNLAGE</td>\n",
       "      <td>building</td>\n",
       "      <td>mixed</td>\n",
       "      <td>[-1]</td>\n",
       "    </tr>\n",
       "    <tr>\n",
       "      <th>59</th>\n",
       "      <td>CAMEO_INTL_2015</td>\n",
       "      <td>microcell_rr4</td>\n",
       "      <td>mixed</td>\n",
       "      <td>[-1,XX]</td>\n",
       "    </tr>\n",
       "    <tr>\n",
       "      <th>64</th>\n",
       "      <td>KBA05_BAUMAX</td>\n",
       "      <td>microcell_rr3</td>\n",
       "      <td>mixed</td>\n",
       "      <td>[-1,0]</td>\n",
       "    </tr>\n",
       "    <tr>\n",
       "      <th>79</th>\n",
       "      <td>PLZ8_BAUMAX</td>\n",
       "      <td>macrocell_plz8</td>\n",
       "      <td>mixed</td>\n",
       "      <td>[-1,0]</td>\n",
       "    </tr>\n",
       "  </tbody>\n",
       "</table>\n",
       "</div>"
      ],
      "text/plain": [
       "                attribute information_level   type missing_or_unknown\n",
       "15    LP_LEBENSPHASE_FEIN            person  mixed                [0]\n",
       "16    LP_LEBENSPHASE_GROB            person  mixed                [0]\n",
       "22  PRAEGENDE_JUGENDJAHRE            person  mixed             [-1,0]\n",
       "56               WOHNLAGE          building  mixed               [-1]\n",
       "59        CAMEO_INTL_2015     microcell_rr4  mixed            [-1,XX]\n",
       "64           KBA05_BAUMAX     microcell_rr3  mixed             [-1,0]\n",
       "79            PLZ8_BAUMAX    macrocell_plz8  mixed             [-1,0]"
      ]
     },
     "execution_count": 9,
     "metadata": {},
     "output_type": "execute_result"
    }
   ],
   "source": [
    "# example of missing_or_unknown that is type numeric\n",
    "feat_info[feat_info[\"type\"] == \"mixed\"]"
   ]
  },
  {
   "cell_type": "code",
   "execution_count": 10,
   "metadata": {},
   "outputs": [
    {
     "data": {
      "text/plain": [
       "51     133694\n",
       "NaN     98979\n",
       "41      92336\n",
       "24      91158\n",
       "14      62884\n",
       "43      56672\n",
       "54      45391\n",
       "25      39628\n",
       "22      33155\n",
       "23      26750\n",
       "13      26336\n",
       "45      26132\n",
       "55      23955\n",
       "52      20542\n",
       "31      19024\n",
       "34      18524\n",
       "15      16974\n",
       "44      14820\n",
       "12      13249\n",
       "35      10356\n",
       "32      10354\n",
       "33       9935\n",
       "XX        373\n",
       "Name: CAMEO_INTL_2015, dtype: int64"
      ]
     },
     "execution_count": 10,
     "metadata": {},
     "output_type": "execute_result"
    }
   ],
   "source": [
    "# value of unique elements in one row mixed\n",
    "azdias.CAMEO_INTL_2015.value_counts(dropna=False)"
   ]
  },
  {
   "cell_type": "code",
   "execution_count": 11,
   "metadata": {},
   "outputs": [
    {
     "data": {
      "text/html": [
       "<div>\n",
       "<style scoped>\n",
       "    .dataframe tbody tr th:only-of-type {\n",
       "        vertical-align: middle;\n",
       "    }\n",
       "\n",
       "    .dataframe tbody tr th {\n",
       "        vertical-align: top;\n",
       "    }\n",
       "\n",
       "    .dataframe thead th {\n",
       "        text-align: right;\n",
       "    }\n",
       "</style>\n",
       "<table border=\"1\" class=\"dataframe\">\n",
       "  <thead>\n",
       "    <tr style=\"text-align: right;\">\n",
       "      <th></th>\n",
       "      <th>attribute</th>\n",
       "      <th>information_level</th>\n",
       "      <th>type</th>\n",
       "      <th>missing_or_unknown</th>\n",
       "    </tr>\n",
       "  </thead>\n",
       "  <tbody>\n",
       "    <tr>\n",
       "      <th>1</th>\n",
       "      <td>ALTERSKATEGORIE_GROB</td>\n",
       "      <td>person</td>\n",
       "      <td>ordinal</td>\n",
       "      <td>[-1,0,9]</td>\n",
       "    </tr>\n",
       "    <tr>\n",
       "      <th>4</th>\n",
       "      <td>FINANZ_MINIMALIST</td>\n",
       "      <td>person</td>\n",
       "      <td>ordinal</td>\n",
       "      <td>[-1]</td>\n",
       "    </tr>\n",
       "    <tr>\n",
       "      <th>5</th>\n",
       "      <td>FINANZ_SPARER</td>\n",
       "      <td>person</td>\n",
       "      <td>ordinal</td>\n",
       "      <td>[-1]</td>\n",
       "    </tr>\n",
       "    <tr>\n",
       "      <th>6</th>\n",
       "      <td>FINANZ_VORSORGER</td>\n",
       "      <td>person</td>\n",
       "      <td>ordinal</td>\n",
       "      <td>[-1]</td>\n",
       "    </tr>\n",
       "    <tr>\n",
       "      <th>7</th>\n",
       "      <td>FINANZ_ANLEGER</td>\n",
       "      <td>person</td>\n",
       "      <td>ordinal</td>\n",
       "      <td>[-1]</td>\n",
       "    </tr>\n",
       "  </tbody>\n",
       "</table>\n",
       "</div>"
      ],
      "text/plain": [
       "              attribute information_level     type missing_or_unknown\n",
       "1  ALTERSKATEGORIE_GROB            person  ordinal           [-1,0,9]\n",
       "4     FINANZ_MINIMALIST            person  ordinal               [-1]\n",
       "5         FINANZ_SPARER            person  ordinal               [-1]\n",
       "6      FINANZ_VORSORGER            person  ordinal               [-1]\n",
       "7        FINANZ_ANLEGER            person  ordinal               [-1]"
      ]
     },
     "execution_count": 11,
     "metadata": {},
     "output_type": "execute_result"
    }
   ],
   "source": [
    "# example of missing_or_unknown that is type ordinal\n",
    "feat_info[feat_info[\"type\"] == \"ordinal\"].head()"
   ]
  },
  {
   "cell_type": "code",
   "execution_count": 12,
   "metadata": {},
   "outputs": [
    {
     "data": {
      "text/plain": [
       "3    358533\n",
       "4    228510\n",
       "2    158410\n",
       "1    142887\n",
       "9      2881\n",
       "Name: ALTERSKATEGORIE_GROB, dtype: int64"
      ]
     },
     "execution_count": 12,
     "metadata": {},
     "output_type": "execute_result"
    }
   ],
   "source": [
    "# value of unique elements in one row ordinal\n",
    "azdias.ALTERSKATEGORIE_GROB.value_counts(dropna=False)"
   ]
  },
  {
   "cell_type": "code",
   "execution_count": 13,
   "metadata": {},
   "outputs": [
    {
     "data": {
      "text/html": [
       "<div>\n",
       "<style scoped>\n",
       "    .dataframe tbody tr th:only-of-type {\n",
       "        vertical-align: middle;\n",
       "    }\n",
       "\n",
       "    .dataframe tbody tr th {\n",
       "        vertical-align: top;\n",
       "    }\n",
       "\n",
       "    .dataframe thead th {\n",
       "        text-align: right;\n",
       "    }\n",
       "</style>\n",
       "<table border=\"1\" class=\"dataframe\">\n",
       "  <thead>\n",
       "    <tr style=\"text-align: right;\">\n",
       "      <th></th>\n",
       "      <th>attribute</th>\n",
       "      <th>information_level</th>\n",
       "      <th>type</th>\n",
       "      <th>missing_or_unknown</th>\n",
       "    </tr>\n",
       "  </thead>\n",
       "  <tbody>\n",
       "    <tr>\n",
       "      <th>0</th>\n",
       "      <td>AGER_TYP</td>\n",
       "      <td>person</td>\n",
       "      <td>categorical</td>\n",
       "      <td>[-1,0]</td>\n",
       "    </tr>\n",
       "    <tr>\n",
       "      <th>2</th>\n",
       "      <td>ANREDE_KZ</td>\n",
       "      <td>person</td>\n",
       "      <td>categorical</td>\n",
       "      <td>[-1,0]</td>\n",
       "    </tr>\n",
       "    <tr>\n",
       "      <th>3</th>\n",
       "      <td>CJT_GESAMTTYP</td>\n",
       "      <td>person</td>\n",
       "      <td>categorical</td>\n",
       "      <td>[0]</td>\n",
       "    </tr>\n",
       "    <tr>\n",
       "      <th>10</th>\n",
       "      <td>FINANZTYP</td>\n",
       "      <td>person</td>\n",
       "      <td>categorical</td>\n",
       "      <td>[-1]</td>\n",
       "    </tr>\n",
       "    <tr>\n",
       "      <th>12</th>\n",
       "      <td>GFK_URLAUBERTYP</td>\n",
       "      <td>person</td>\n",
       "      <td>categorical</td>\n",
       "      <td>[]</td>\n",
       "    </tr>\n",
       "  </tbody>\n",
       "</table>\n",
       "</div>"
      ],
      "text/plain": [
       "          attribute information_level         type missing_or_unknown\n",
       "0          AGER_TYP            person  categorical             [-1,0]\n",
       "2         ANREDE_KZ            person  categorical             [-1,0]\n",
       "3     CJT_GESAMTTYP            person  categorical                [0]\n",
       "10        FINANZTYP            person  categorical               [-1]\n",
       "12  GFK_URLAUBERTYP            person  categorical                 []"
      ]
     },
     "execution_count": 13,
     "metadata": {},
     "output_type": "execute_result"
    }
   ],
   "source": [
    "# example of missing_or_unknown that is type categorical\n",
    "feat_info[feat_info[\"type\"] == \"categorical\"].head()"
   ]
  },
  {
   "cell_type": "code",
   "execution_count": 14,
   "metadata": {},
   "outputs": [
    {
     "data": {
      "text/plain": [
       "-1    677503\n",
       " 2     98472\n",
       " 1     79802\n",
       " 3     27104\n",
       " 0      8340\n",
       "Name: AGER_TYP, dtype: int64"
      ]
     },
     "execution_count": 14,
     "metadata": {},
     "output_type": "execute_result"
    }
   ],
   "source": [
    "# value of unique elements in one row categorial\n",
    "azdias.AGER_TYP.value_counts(dropna=False)"
   ]
  },
  {
   "cell_type": "code",
   "execution_count": 15,
   "metadata": {},
   "outputs": [
    {
     "data": {
      "text/plain": [
       " 12.0    138545\n",
       " 5.0     120126\n",
       " 10.0    109127\n",
       " 8.0      88042\n",
       " 11.0     79740\n",
       " 4.0      63770\n",
       " 9.0      60614\n",
       " 3.0      56007\n",
       " 1.0      53600\n",
       " 2.0      46702\n",
       " 7.0      42956\n",
       " 6.0      27138\n",
       "NaN        4854\n",
       "Name: GFK_URLAUBERTYP, dtype: int64"
      ]
     },
     "execution_count": 15,
     "metadata": {},
     "output_type": "execute_result"
    }
   ],
   "source": [
    "# value of unique elements in one row categorial\n",
    "azdias.GFK_URLAUBERTYP.value_counts(dropna=False)"
   ]
  },
  {
   "cell_type": "markdown",
   "metadata": {},
   "source": [
    "Different groups, with different values used to indicate missing or unknown"
   ]
  },
  {
   "cell_type": "code",
   "execution_count": 16,
   "metadata": {},
   "outputs": [
    {
     "data": {
      "text/html": [
       "<div>\n",
       "<style scoped>\n",
       "    .dataframe tbody tr th:only-of-type {\n",
       "        vertical-align: middle;\n",
       "    }\n",
       "\n",
       "    .dataframe tbody tr th {\n",
       "        vertical-align: top;\n",
       "    }\n",
       "\n",
       "    .dataframe thead th {\n",
       "        text-align: right;\n",
       "    }\n",
       "</style>\n",
       "<table border=\"1\" class=\"dataframe\">\n",
       "  <thead>\n",
       "    <tr style=\"text-align: right;\">\n",
       "      <th></th>\n",
       "      <th>attribute</th>\n",
       "      <th>information_level</th>\n",
       "      <th>type</th>\n",
       "      <th>missing_or_unknown</th>\n",
       "      <th>NA_tags</th>\n",
       "    </tr>\n",
       "  </thead>\n",
       "  <tbody>\n",
       "    <tr>\n",
       "      <th>0</th>\n",
       "      <td>AGER_TYP</td>\n",
       "      <td>person</td>\n",
       "      <td>categorical</td>\n",
       "      <td>[-1,0]</td>\n",
       "      <td>[-1, 0]</td>\n",
       "    </tr>\n",
       "    <tr>\n",
       "      <th>1</th>\n",
       "      <td>ALTERSKATEGORIE_GROB</td>\n",
       "      <td>person</td>\n",
       "      <td>ordinal</td>\n",
       "      <td>[-1,0,9]</td>\n",
       "      <td>[-1, 0, 9]</td>\n",
       "    </tr>\n",
       "    <tr>\n",
       "      <th>2</th>\n",
       "      <td>ANREDE_KZ</td>\n",
       "      <td>person</td>\n",
       "      <td>categorical</td>\n",
       "      <td>[-1,0]</td>\n",
       "      <td>[-1, 0]</td>\n",
       "    </tr>\n",
       "    <tr>\n",
       "      <th>3</th>\n",
       "      <td>CJT_GESAMTTYP</td>\n",
       "      <td>person</td>\n",
       "      <td>categorical</td>\n",
       "      <td>[0]</td>\n",
       "      <td>[0]</td>\n",
       "    </tr>\n",
       "    <tr>\n",
       "      <th>4</th>\n",
       "      <td>FINANZ_MINIMALIST</td>\n",
       "      <td>person</td>\n",
       "      <td>ordinal</td>\n",
       "      <td>[-1]</td>\n",
       "      <td>[-1]</td>\n",
       "    </tr>\n",
       "  </tbody>\n",
       "</table>\n",
       "</div>"
      ],
      "text/plain": [
       "              attribute information_level         type missing_or_unknown  \\\n",
       "0              AGER_TYP            person  categorical             [-1,0]   \n",
       "1  ALTERSKATEGORIE_GROB            person      ordinal           [-1,0,9]   \n",
       "2             ANREDE_KZ            person  categorical             [-1,0]   \n",
       "3         CJT_GESAMTTYP            person  categorical                [0]   \n",
       "4     FINANZ_MINIMALIST            person      ordinal               [-1]   \n",
       "\n",
       "      NA_tags  \n",
       "0     [-1, 0]  \n",
       "1  [-1, 0, 9]  \n",
       "2     [-1, 0]  \n",
       "3         [0]  \n",
       "4        [-1]  "
      ]
     },
     "execution_count": 16,
     "metadata": {},
     "output_type": "execute_result"
    }
   ],
   "source": [
    "# change missing_or_unknown string [] to list\n",
    "# function modified from Udacity Knowledge\n",
    "\n",
    "def string_to_list(x):\n",
    "\n",
    "    new_list=[]\n",
    "\n",
    "    x = x[1:-1].split(',')\n",
    "\n",
    "    for i in x:\n",
    "            try:\n",
    "                new_list.append(int(i))\n",
    "            except:\n",
    "                new_list.append(i)\n",
    "    \n",
    "    return new_list\n",
    "\n",
    "feat_info['NA_tags'] = feat_info['missing_or_unknown'].apply(string_to_list)\n",
    "\n",
    "feat_info.head()"
   ]
  },
  {
   "cell_type": "code",
   "execution_count": 17,
   "metadata": {},
   "outputs": [
    {
     "data": {
      "text/plain": [
       "8373929"
      ]
     },
     "execution_count": 17,
     "metadata": {},
     "output_type": "execute_result"
    }
   ],
   "source": [
    "# change missing or unknown values by np.nan\n",
    "att_index = feat_info.set_index('attribute')\n",
    "\n",
    "for column in azdias.columns:\n",
    "    azdias[column].replace(att_index.loc[column].loc['NA_tags'],np.NaN,inplace=True)\n",
    "    \n",
    "azdias.isna().sum().sum()"
   ]
  },
  {
   "cell_type": "code",
   "execution_count": 18,
   "metadata": {},
   "outputs": [
    {
     "data": {
      "text/plain": [
       "51     133694\n",
       "NaN     99352\n",
       "41      92336\n",
       "24      91158\n",
       "14      62884\n",
       "43      56672\n",
       "54      45391\n",
       "25      39628\n",
       "22      33155\n",
       "23      26750\n",
       "13      26336\n",
       "45      26132\n",
       "55      23955\n",
       "52      20542\n",
       "31      19024\n",
       "34      18524\n",
       "15      16974\n",
       "44      14820\n",
       "12      13249\n",
       "35      10356\n",
       "32      10354\n",
       "33       9935\n",
       "Name: CAMEO_INTL_2015, dtype: int64"
      ]
     },
     "execution_count": 18,
     "metadata": {},
     "output_type": "execute_result"
    }
   ],
   "source": [
    "# example of value of unique elements in one row mixed\n",
    "# NaN but not XX values\n",
    "azdias.CAMEO_INTL_2015.value_counts(dropna=False)"
   ]
  },
  {
   "cell_type": "code",
   "execution_count": 19,
   "metadata": {},
   "outputs": [
    {
     "data": {
      "text/plain": [
       "NaN     685843\n",
       " 2.0     98472\n",
       " 1.0     79802\n",
       " 3.0     27104\n",
       "Name: AGER_TYP, dtype: int64"
      ]
     },
     "execution_count": 19,
     "metadata": {},
     "output_type": "execute_result"
    }
   ],
   "source": [
    "# value of unique elements in one row categorial\n",
    "# NaN instead of -1\n",
    "azdias.AGER_TYP.value_counts(dropna=False)"
   ]
  },
  {
   "cell_type": "code",
   "execution_count": 20,
   "metadata": {},
   "outputs": [
    {
     "data": {
      "text/plain": [
       " 3.0    358533\n",
       " 4.0    228510\n",
       " 2.0    158410\n",
       " 1.0    142887\n",
       "NaN       2881\n",
       "Name: ALTERSKATEGORIE_GROB, dtype: int64"
      ]
     },
     "execution_count": 20,
     "metadata": {},
     "output_type": "execute_result"
    }
   ],
   "source": [
    "# value of unique elements in one row ordinal\n",
    "# NaN instead of 9\n",
    "azdias.ALTERSKATEGORIE_GROB.value_counts(dropna=False)"
   ]
  },
  {
   "cell_type": "code",
   "execution_count": 21,
   "metadata": {},
   "outputs": [
    {
     "data": {
      "image/png": "[encoded data removed]",
      "text/plain": [
       "<matplotlib.figure.Figure at 0x7fb10be40a90>"
      ]
     },
     "metadata": {
      "needs_background": "light"
     },
     "output_type": "display_data"
    }
   ],
   "source": [
    "# total NaN per column after correct missing values\n",
    "total_nan_col = azdias.isnull().sum()\n",
    "plt.figure(figsize=[15,5])\n",
    "plt.bar(total_nan_col.index, total_nan_col.values)\n",
    "plt.xticks(rotation=90, ha='right')\n",
    "plt.show()"
   ]
  },
  {
   "cell_type": "code",
   "execution_count": 22,
   "metadata": {},
   "outputs": [
    {
     "data": {
      "text/plain": [
       "8373929"
      ]
     },
     "execution_count": 22,
     "metadata": {},
     "output_type": "execute_result"
    }
   ],
   "source": [
    "# total Nan in database\n",
    "total_nan = total_nan_col.sum()\n",
    "total_nan"
   ]
  },
  {
   "cell_type": "code",
   "execution_count": 23,
   "metadata": {},
   "outputs": [
    {
     "name": "stdout",
     "output_type": "stream",
     "text": [
      "Total number of natural Nan:  4896838\n",
      "Total number of missing or unknown data: 8373929\n",
      "Ratio:  1.71006861979\n"
     ]
    }
   ],
   "source": [
    "print(\"Total number of natural Nan: \", natural_nan_total)\n",
    "print(\"Total number of missing or unknown data:\", total_nan)\n",
    "print(\"Ratio: \", total_nan/natural_nan_total)"
   ]
  },
  {
   "cell_type": "code",
   "execution_count": 24,
   "metadata": {},
   "outputs": [
    {
     "name": "stdout",
     "output_type": "stream",
     "text": [
      "Step 1.1.1: Convert Missing Value Codes to NaNs, rows : 891221, columns: 85\n"
     ]
    }
   ],
   "source": [
    "print(\"Step 1.1.1: Convert Missing Value Codes to NaNs, rows : {}, columns: {}\".format(azdias.shape[0], azdias.shape[1]))"
   ]
  },
  {
   "cell_type": "markdown",
   "metadata": {},
   "source": [
    "#### Step 1.1.2: Assess Missing Data in Each Column\n",
    "\n",
    "How much missing data is present in each column? There are a few columns that are outliers in terms of the proportion of values that are missing. You will want to use matplotlib's [`hist()`](https://matplotlib.org/api/_as_gen/matplotlib.pyplot.hist.html) function to visualize the distribution of missing value counts to find these columns. Identify and document these columns. While some of these columns might have justifications for keeping or re-encoding the data, for this project you should just remove them from the dataframe. (Feel free to make remarks about these outlier columns in the discussion, however!)\n",
    "\n",
    "For the remaining features, are there any patterns in which columns have, or share, missing data?"
   ]
  },
  {
   "cell_type": "code",
   "execution_count": 25,
   "metadata": {},
   "outputs": [
    {
     "data": {
      "image/png": "[encoded data removed]",
      "text/plain": [
       "<matplotlib.figure.Figure at 0x7fb10be3dba8>"
      ]
     },
     "metadata": {
      "needs_background": "light"
     },
     "output_type": "display_data"
    }
   ],
   "source": [
    "# Perform an assessment of how much missing data there is in each column of the\n",
    "# dataset.\n",
    "\n",
    "# total NaN per column\n",
    "total_nan_col = azdias.isnull().sum()\n",
    "per_total_nan_col = (total_nan_col/len(azdias.index))*100\n",
    "\n",
    "# Investigate patterns in the amount of missing data in each column.\n",
    "plt.hist(per_total_nan_col, bins=100)\n",
    "plt.xlabel(\"% of missing data to total # rows\")\n",
    "plt.ylabel(\"frequency\")\n",
    "plt.show()"
   ]
  },
  {
   "cell_type": "code",
   "execution_count": 26,
   "metadata": {},
   "outputs": [
    {
     "data": {
      "text/plain": [
       "AGER_TYP        76.955435\n",
       "GEBURTSJAHR     44.020282\n",
       "TITEL_KZ        99.757636\n",
       "ALTER_HH        34.813699\n",
       "KK_KUNDENTYP    65.596749\n",
       "KBA05_BAUMAX    53.468668\n",
       "dtype: float64"
      ]
     },
     "execution_count": 26,
     "metadata": {},
     "output_type": "execute_result"
    }
   ],
   "source": [
    "# Remove the outlier columns from the dataset. (You'll perform other data\n",
    "# engineering tasks such as re-encoding and imputation later.)\n",
    "\n",
    "# column outliers\n",
    "outliers = per_total_nan_col[per_total_nan_col > 20]\n",
    "outliers"
   ]
  },
  {
   "cell_type": "code",
   "execution_count": 27,
   "metadata": {
    "scrolled": true
   },
   "outputs": [
    {
     "data": {
      "image/png": "[encoded data removed]",
      "text/plain": [
       "<matplotlib.figure.Figure at 0x7fb10be5a1d0>"
      ]
     },
     "metadata": {
      "needs_background": "light"
     },
     "output_type": "display_data"
    }
   ],
   "source": [
    "# remove outliers\n",
    "azdias.drop(columns=outliers.index.tolist(), inplace= True)\n",
    "\n",
    "# plot distribution of missing values\n",
    "keepers = azdias.isnull().sum()\n",
    "plt.hist((keepers/len(azdias.index))*100)\n",
    "plt.xlabel(\"% of missing data to total # rows\")\n",
    "plt.ylabel(\"frequency\")\n",
    "plt.show()"
   ]
  },
  {
   "cell_type": "code",
   "execution_count": 28,
   "metadata": {},
   "outputs": [
    {
     "name": "stdout",
     "output_type": "stream",
     "text": [
      "Step 1.1.2: Assess Missing Data in Each Column, rows : 891221, columns: 79\n"
     ]
    }
   ],
   "source": [
    "print(\"Step 1.1.2: Assess Missing Data in Each Column, rows : {}, columns: {}\".format(azdias.shape[0], azdias.shape[1]))"
   ]
  },
  {
   "cell_type": "markdown",
   "metadata": {},
   "source": [
    "#### Discussion 1.1.2: Assess Missing Data in Each Column\n",
    "\n",
    "We have 2 groups of less than 20% missing data and 6 features with 20% or more missing data.\n",
    "\n",
    "The columns AGER_TYP, GEBURTSJAHR, TITEL_KZ, ALTER_HH, KK_KUNDENTYP and KBA05_BAUMAX had 20% or more missing data, and they were discarded.\n",
    "\n",
    "From the rest of the data, we can see two groups, oune with around 1% of missing data, and another with around 12% of missing data."
   ]
  },
  {
   "cell_type": "markdown",
   "metadata": {},
   "source": [
    "#### Step 1.1.3: Assess Missing Data in Each Row\n",
    "\n",
    "Now, you'll perform a similar assessment for the rows of the dataset. How much data is missing in each row? As with the columns, you should see some groups of points that have a very different numbers of missing values. Divide the data into two subsets: one for data points that are above some threshold for missing values, and a second subset for points below that threshold.\n",
    "\n",
    "In order to know what to do with the outlier rows, we should see if the distribution of data values on columns that are not missing data (or are missing very little data) are similar or different between the two groups. Select at least five of these columns and compare the distribution of values.\n",
    "- You can use seaborn's [`countplot()`](https://seaborn.pydata.org/generated/seaborn.countplot.html) function to create a bar chart of code frequencies and matplotlib's [`subplot()`](https://matplotlib.org/api/_as_gen/matplotlib.pyplot.subplot.html) function to put bar charts for the two subplots side by side.\n",
    "- To reduce repeated code, you might want to write a function that can perform this comparison, taking as one of its arguments a column to be compared.\n",
    "\n",
    "Depending on what you observe in your comparison, this will have implications on how you approach your conclusions later in the analysis. If the distributions of non-missing features look similar between the data with many missing values and the data with few or no missing values, then we could argue that simply dropping those points from the analysis won't present a major issue. On the other hand, if the data with many missing values looks very different from the data with few or no missing values, then we should make a note on those data as special. We'll revisit these data later on. **Either way, you should continue your analysis for now using just the subset of the data with few or no missing values.**"
   ]
  },
  {
   "cell_type": "code",
   "execution_count": 29,
   "metadata": {},
   "outputs": [
    {
     "data": {
      "image/png": "[encoded data removed]",
      "text/plain": [
       "<matplotlib.figure.Figure at 0x7fb103d2e0b8>"
      ]
     },
     "metadata": {
      "needs_background": "light"
     },
     "output_type": "display_data"
    }
   ],
   "source": [
    "# How much data is missing in each row of the dataset?\n",
    "total_nan_row = azdias.isnull().sum(axis=1)\n",
    "\n",
    "# histo of empty rows\n",
    "plt.hist(total_nan_row)\n",
    "plt.xlabel(\"# of missing data\")\n",
    "plt.ylabel(\"frequency\")\n",
    "plt.show()"
   ]
  },
  {
   "cell_type": "code",
   "execution_count": 30,
   "metadata": {},
   "outputs": [
    {
     "data": {
      "text/plain": [
       "797961"
      ]
     },
     "execution_count": 30,
     "metadata": {},
     "output_type": "execute_result"
    }
   ],
   "source": [
    "# Write code to divide the data into two subsets based on the number of missing\n",
    "# values in each row.\n",
    "threshold = 25\n",
    "\n",
    "subset1 = azdias[total_nan_row <= threshold]\n",
    "azdias_show = azdias.copy()\n",
    "azdias_show['subset'] = total_nan_row > threshold\n",
    "\n",
    "subset1.shape[0]"
   ]
  },
  {
   "cell_type": "code",
   "execution_count": 31,
   "metadata": {},
   "outputs": [
    {
     "data": {
      "image/png": "[encoded data removed]",
      "text/plain": [
       "<matplotlib.figure.Figure at 0x7fb103c8da58>"
      ]
     },
     "metadata": {
      "needs_background": "light"
     },
     "output_type": "display_data"
    }
   ],
   "source": [
    "# Compare the distribution of values for at least five columns where there are\n",
    "# no or few missing values, between the two subsets.\n",
    "\n",
    "# columns with no missing values\n",
    "zero_miss =total_nan_col[total_nan_col == 0].axes[0].tolist()\n",
    "\n",
    "fig, axes = plt.subplots(5,1)\n",
    "fig.set_figheight(20)\n",
    "fig.set_figwidth(5)\n",
    "\n",
    "for i in np.arange(5):\n",
    "    g = sns.countplot(ax=axes[i], x=zero_miss[i], data=azdias_show, hue = \"subset\")\n",
    "    g.legend(labels=[\"less\",\"more\"], title = \"Missing values\")"
   ]
  },
  {
   "cell_type": "code",
   "execution_count": 32,
   "metadata": {},
   "outputs": [
    {
     "name": "stdout",
     "output_type": "stream",
     "text": [
      "Step 1.1.3: Assess Missing Data in Each row, rows : 797961, columns: 79\n"
     ]
    }
   ],
   "source": [
    "print(\"Step 1.1.3: Assess Missing Data in Each row, rows : {}, columns: {}\".format(subset1.shape[0], subset1.shape[1]))"
   ]
  },
  {
   "cell_type": "markdown",
   "metadata": {},
   "source": [
    "#### Discussion 1.1.3: Assess Missing Data in Each Row\n",
    "\n",
    "We found 2 groups of data with missing values in rows, and we divided the dataset in those with rows with 25 or less missing values and those with more than 25 missing values.\n",
    "\n",
    "We found that a qualitative difference in the distribution of values between those datasets if we compare 5 features with no missing values. For example in the feature FINANZ_SPARER the dataset with less missing values has a distribution that tends towards 1.0, while the dataset with more missing values tends towards 4.0. We also see differences in distribution in the features FINANZ_VORSORGER and in FINANZ_ANLEGER."
   ]
  },
  {
   "cell_type": "markdown",
   "metadata": {},
   "source": [
    "### Step 1.2: Select and Re-Encode Features\n",
    "\n",
    "Checking for missing data isn't the only way in which you can prepare a dataset for analysis. Since the unsupervised learning techniques to be used will only work on data that is encoded numerically, you need to make a few encoding changes or additional assumptions to be able to make progress. In addition, while almost all of the values in the dataset are encoded using numbers, not all of them represent numeric values. Check the third column of the feature summary (`feat_info`) for a summary of types of measurement.\n",
    "- For numeric and interval data, these features can be kept without changes.\n",
    "- Most of the variables in the dataset are ordinal in nature. While ordinal values may technically be non-linear in spacing, make the simplifying assumption that the ordinal variables can be treated as being interval in nature (that is, kept without any changes).\n",
    "- Special handling may be necessary for the remaining two variable types: categorical, and 'mixed'.\n",
    "\n",
    "In the first two parts of this sub-step, you will perform an investigation of the categorical and mixed-type features and make a decision on each of them, whether you will keep, drop, or re-encode each. Then, in the last part, you will create a new data frame with only the selected and engineered columns.\n",
    "\n",
    "Data wrangling is often the trickiest part of the data analysis process, and there's a lot of it to be done here. But stick with it: once you're done with this step, you'll be ready to get to the machine learning parts of the project!"
   ]
  },
  {
   "cell_type": "code",
   "execution_count": 33,
   "metadata": {},
   "outputs": [
    {
     "data": {
      "text/plain": [
       "ordinal        49\n",
       "categorical    18\n",
       "mixed           6\n",
       "numeric         6\n",
       "Name: type, dtype: int64"
      ]
     },
     "execution_count": 33,
     "metadata": {},
     "output_type": "execute_result"
    }
   ],
   "source": [
    "# How many features are there of each data type?\n",
    "# remove outliers\n",
    "for column in outliers.index.tolist():\n",
    "    feat_info = feat_info[feat_info.attribute != column]\n",
    "feat_info.type.value_counts()"
   ]
  },
  {
   "cell_type": "markdown",
   "metadata": {},
   "source": [
    "#### Step 1.2.1: Re-Encode Categorical Features\n",
    "\n",
    "For categorical data, you would ordinarily need to encode the levels as dummy variables. Depending on the number of categories, perform one of the following:\n",
    "- For binary (two-level) categoricals that take numeric values, you can keep them without needing to do anything.\n",
    "- There is one binary variable that takes on non-numeric values. For this one, you need to re-encode the values as numbers or create a dummy variable.\n",
    "- For multi-level categoricals (three or more values), you can choose to encode the values using multiple dummy variables (e.g. via [OneHotEncoder](http://scikit-learn.org/stable/modules/generated/sklearn.preprocessing.OneHotEncoder.html)), or (to keep things straightforward) just drop them from the analysis. As always, document your choices in the Discussion section."
   ]
  },
  {
   "cell_type": "code",
   "execution_count": 34,
   "metadata": {},
   "outputs": [],
   "source": [
    "# Assess categorical variables: which are binary, which are multi-level, and\n",
    "# which one needs to be re-encoded?\n",
    "categorical = feat_info[feat_info['type'] == 'categorical'].attribute.tolist()\n",
    "\n",
    "# count categorical variables\n",
    "cat_variables = subset1[categorical].nunique()"
   ]
  },
  {
   "cell_type": "code",
   "execution_count": 35,
   "metadata": {},
   "outputs": [
    {
     "data": {
      "text/plain": [
       "ANREDE_KZ           2\n",
       "GREEN_AVANTGARDE    2\n",
       "SOHO_KZ             2\n",
       "VERS_TYP            2\n",
       "OST_WEST_KZ         2\n",
       "dtype: int64"
      ]
     },
     "execution_count": 35,
     "metadata": {},
     "output_type": "execute_result"
    }
   ],
   "source": [
    "# binary categorical variables\n",
    "binary = cat_variables[cat_variables <= 2]\n",
    "binary"
   ]
  },
  {
   "cell_type": "code",
   "execution_count": 36,
   "metadata": {},
   "outputs": [
    {
     "data": {
      "text/plain": [
       "ANREDE_KZ             int64\n",
       "GREEN_AVANTGARDE      int64\n",
       "SOHO_KZ             float64\n",
       "VERS_TYP            float64\n",
       "OST_WEST_KZ          object\n",
       "dtype: object"
      ]
     },
     "execution_count": 36,
     "metadata": {},
     "output_type": "execute_result"
    }
   ],
   "source": [
    "# find the non-numerical binary categorical feature\n",
    "subset1[binary.index.tolist()].dtypes"
   ]
  },
  {
   "cell_type": "code",
   "execution_count": 37,
   "metadata": {},
   "outputs": [
    {
     "data": {
      "text/plain": [
       "array(['W', 'O'], dtype=object)"
      ]
     },
     "execution_count": 37,
     "metadata": {},
     "output_type": "execute_result"
    }
   ],
   "source": [
    "# what values has the categorical feature with not-numerical values\n",
    "subset1['OST_WEST_KZ'].unique()"
   ]
  },
  {
   "cell_type": "code",
   "execution_count": 38,
   "metadata": {},
   "outputs": [
    {
     "name": "stderr",
     "output_type": "stream",
     "text": [
      "/opt/conda/lib/python3.6/site-packages/ipykernel_launcher.py:2: SettingWithCopyWarning: \n",
      "A value is trying to be set on a copy of a slice from a DataFrame.\n",
      "Try using .loc[row_indexer,col_indexer] = value instead\n",
      "\n",
      "See the caveats in the documentation: http://pandas.pydata.org/pandas-docs/stable/indexing.html#indexing-view-versus-copy\n",
      "  \n"
     ]
    },
    {
     "data": {
      "text/plain": [
       "array([0, 1])"
      ]
     },
     "execution_count": 38,
     "metadata": {},
     "output_type": "execute_result"
    }
   ],
   "source": [
    "# Re-encode categorical variable(s) to be kept in the analysis.\n",
    "subset1['OST_WEST_KZ'] = subset1['OST_WEST_KZ'].replace(['W', 'O'], [0, 1])\n",
    "subset1['OST_WEST_KZ'].unique()\n"
   ]
  },
  {
   "cell_type": "code",
   "execution_count": 39,
   "metadata": {},
   "outputs": [
    {
     "data": {
      "text/plain": [
       "['CJT_GESAMTTYP',\n",
       " 'FINANZTYP',\n",
       " 'GFK_URLAUBERTYP',\n",
       " 'LP_FAMILIE_FEIN',\n",
       " 'LP_FAMILIE_GROB',\n",
       " 'LP_STATUS_FEIN',\n",
       " 'LP_STATUS_GROB',\n",
       " 'NATIONALITAET_KZ',\n",
       " 'SHOPPER_TYP',\n",
       " 'ZABEOTYP',\n",
       " 'GEBAEUDETYP',\n",
       " 'CAMEO_DEUG_2015',\n",
       " 'CAMEO_DEU_2015']"
      ]
     },
     "execution_count": 39,
     "metadata": {},
     "output_type": "execute_result"
    }
   ],
   "source": [
    "# multilevel categorical variables\n",
    "multilevel = cat_variables[cat_variables > 2].index.tolist()\n",
    "multilevel"
   ]
  },
  {
   "cell_type": "code",
   "execution_count": 40,
   "metadata": {},
   "outputs": [],
   "source": [
    "# remove multilevel categorical variables\n",
    "multilevel = cat_variables[cat_variables > 2].index.tolist()\n",
    "subset1 = subset1.drop(columns=multilevel)\n",
    "for column in multilevel:\n",
    "    feat_info= feat_info[feat_info.attribute != column]"
   ]
  },
  {
   "cell_type": "code",
   "execution_count": 41,
   "metadata": {},
   "outputs": [
    {
     "name": "stdout",
     "output_type": "stream",
     "text": [
      "1.2.1: Re-Encode Categorical Features, rows : 797961, columns: 66\n"
     ]
    }
   ],
   "source": [
    "print(\"1.2.1: Re-Encode Categorical Features, rows : {}, columns: {}\".format(subset1.shape[0], subset1.shape[1]))"
   ]
  },
  {
   "cell_type": "markdown",
   "metadata": {},
   "source": [
    "#### Discussion 1.2.1: Re-Encode Categorical Features\n",
    "\n",
    "I found 19 categorical features, from which 14 where multilevel and were discarded.\n",
    "\n",
    "From the 5 binary categorical features, 4 where float64, but 1 was an object. I changed the values of that feature to 0 and 1."
   ]
  },
  {
   "cell_type": "markdown",
   "metadata": {},
   "source": [
    "#### Step 1.2.2: Engineer Mixed-Type Features\n",
    "\n",
    "There are a handful of features that are marked as \"mixed\" in the feature summary that require special treatment in order to be included in the analysis. There are two in particular that deserve attention; the handling of the rest are up to your own choices:\n",
    "- \"PRAEGENDE_JUGENDJAHRE\" combines information on three dimensions: generation by decade, movement (mainstream vs. avantgarde), and nation (east vs. west). While there aren't enough levels to disentangle east from west, you should create two new variables to capture the other two dimensions: an interval-type variable for decade, and a binary variable for movement.\n",
    "- \"CAMEO_INTL_2015\" combines information on two axes: wealth and life stage. Break up the two-digit codes by their 'tens'-place and 'ones'-place digits into two new ordinal variables (which, for the purposes of this project, is equivalent to just treating them as their raw numeric values).\n",
    "- If you decide to keep or engineer new features around the other mixed-type features, make sure you note your steps in the Discussion section.\n",
    "\n",
    "Be sure to check `Data_Dictionary.md` for the details needed to finish these tasks."
   ]
  },
  {
   "cell_type": "code",
   "execution_count": 42,
   "metadata": {
    "scrolled": true
   },
   "outputs": [
    {
     "name": "stdout",
     "output_type": "stream",
     "text": [
      "<h1>\n",
      " Data Dictionary for Identify Customer Segments Data\n",
      "</h1>\n",
      "<h2>\n",
      " Introduction\n",
      "</h2>\n",
      "<p>\n",
      " The data for this project consist of two files:\n",
      "</p>\n",
      "<ul>\n",
      " <li>\n",
      "  Udacity_AZDIAS_Subset.csv: demographics data for the general population of\n",
      "      Germany; 891211 persons (rows) x 85 features (columns)\n",
      " </li>\n",
      " <li>\n",
      "  Udacity_CUSTOMERS_Subset.csv: demographics data for customers of a mail-order\n",
      "      company; 191652 persons (rows) x 85 features (columns)\n",
      " </li>\n",
      "</ul>\n",
      "<p>\n",
      " The columns in the general demographics file and customers data file are the\n",
      "same. This file documents the features that appear in the data files, sorted in\n",
      "order of appearance. Sections of this file is based on the level of measurement\n",
      "of each feature. The file \"AZDIAS_Feature_Summary.csv\" contains a summary of\n",
      "feature attributes, including information level, data type, and codes for\n",
      "missing or unknown values.\n",
      "</p>\n",
      "<h3>\n",
      " Table of Contents\n",
      "</h3>\n",
      "<ol>\n",
      " <li>\n",
      "  Person-level features\n",
      " </li>\n",
      " <li>\n",
      "  Household-level features\n",
      " </li>\n",
      " <li>\n",
      "  Building-level features\n",
      " </li>\n",
      " <li>\n",
      "  RR4 micro-cell features\n",
      " </li>\n",
      " <li>\n",
      "  RR3 micro-cell features\n",
      " </li>\n",
      " <li>\n",
      "  Postcode-level features\n",
      " </li>\n",
      " <li>\n",
      "  RR1 neighborhood features\n",
      " </li>\n",
      " <li>\n",
      "  PLZ8 macro-cell features\n",
      " </li>\n",
      " <li>\n",
      "  Community-level features\n",
      " </li>\n",
      "</ol>\n",
      "<hr/>\n",
      "<h2>\n",
      " 1. Person-level features\n",
      "</h2>\n",
      "<h3>\n",
      " 1.1. AGER_TYP\n",
      "</h3>\n",
      "<p>\n",
      " Best-ager typology\n",
      "- -1: unknown\n",
      "-  0: no classification possible\n",
      "-  1: passive elderly\n",
      "-  2: cultural elderly\n",
      "-  3: experience-driven elderly\n",
      "</p>\n",
      "<h3>\n",
      " 1.2. ALTERSKATEGORIE_GROB\n",
      "</h3>\n",
      "<p>\n",
      " Estimated age based on given name analysis\n",
      "- -1: unknown (missing)\n",
      "-  0: unknown (cannot be determined)\n",
      "-  1: &lt; 30 years old\n",
      "-  2: 30 - 45 years old\n",
      "-  3: 46 - 60 years old\n",
      "-  4: &gt; 60 years old\n",
      "-  9: uniformly distributed\n",
      "</p>\n",
      "<h3>\n",
      " 1.3. ANREDE_KZ\n",
      "</h3>\n",
      "<p>\n",
      " Gender\n",
      "- -1: unknown (missing)\n",
      "-  0: unknown (cannot be determined)\n",
      "-  1: male\n",
      "-  2: female\n",
      "</p>\n",
      "<h3>\n",
      " 1.4. CJT_GESAMTTYP\n",
      "</h3>\n",
      "<p>\n",
      " Customer-Journey-Typology: preferred information and buying channels for\n",
      "consumer\n",
      "- 0: unknown\n",
      "- 1: Advertising- and Consumptionminimalist\n",
      "- 2: Advertising- and Consumptiontraditionalist\n",
      "- 3: advertisinginterested Store-shopper\n",
      "- 4: advertisinginterested Online-shopper\n",
      "- 5: Advertising- and Cross-Channel-Enthusiast\n",
      "- 6: Advertising-Enthusiast with restricted Cross-Channel-Behaviour\n",
      "</p>\n",
      "<h3>\n",
      " 1.5. FINANZ_MINIMALIST, FINANZ_SPARER, FINANZ_VORSORGER, FINANZ_ANLEGER,\n",
      "</h3>\n",
      "<h3>\n",
      " FINANZ_UNAUFFAELLIGER, FINANZ_HAUSBAUER\n",
      "</h3>\n",
      "<p>\n",
      " Financial typology, for each dimension:\n",
      "- -1: unknown\n",
      "-  1: very high\n",
      "-  2: high\n",
      "-  3: average\n",
      "-  4: low\n",
      "-  5: very low\n",
      "</p>\n",
      "<p>\n",
      " Dimension translations:\n",
      "- MINIMALIST: low financial interest\n",
      "- SPARER: money-saver\n",
      "- VORSORGER: be prepared\n",
      "- ANLEGER: investor\n",
      "- UNAUFFAELLIGER: inconspicuous\n",
      "- HAUSBAUER: home ownership\n",
      "</p>\n",
      "<h3>\n",
      " 1.6. FINANZTYP\n",
      "</h3>\n",
      "<p>\n",
      " Most descriptive financial type for individual\n",
      "- -1: unknown\n",
      "-  1: low financial interest (MINIMALIST)\n",
      "-  2: money-saver (SPARER)\n",
      "-  3: home ownership (HAUSBAUER)\n",
      "-  4: be prepared (VORSORGER)\n",
      "-  5: investor (ANLEGER)\n",
      "-  6: inconspicuous (UNAUFFAELLIGER)\n",
      "</p>\n",
      "<h3>\n",
      " 1.7. GEBURTSJAHR\n",
      "</h3>\n",
      "<p>\n",
      " Year of birth\n",
      "- missing data encoded as 0\n",
      "</p>\n",
      "<h3>\n",
      " 1.8. GFK_URLAUBERTYP\n",
      "</h3>\n",
      "<p>\n",
      " Vacation habits\n",
      "-  1: Event travelers\n",
      "-  2: Family-oriented vacationists\n",
      "-  3: Winter sportspeople\n",
      "-  4: Culture lovers\n",
      "-  5: Nature fans\n",
      "-  6: Hiker\n",
      "-  7: Golden ager\n",
      "-  8: Homeland-connected vacationists\n",
      "-  9: Package tour travelers\n",
      "- 10: Connoisseurs\n",
      "- 11: Active families\n",
      "- 12: Without vacation\n",
      "</p>\n",
      "<h3>\n",
      " 1.9. GREEN_AVANTGARDE\n",
      "</h3>\n",
      "<p>\n",
      " Membership in environmental sustainability as part of youth\n",
      "- 0: not a member of green avantgarde\n",
      "- 1: member of green avantgarde\n",
      "</p>\n",
      "<h3>\n",
      " 1.10. HEALTH_TYP\n",
      "</h3>\n",
      "<p>\n",
      " Health typology\n",
      "- -1: unknown\n",
      "-  0: classification not possible\n",
      "-  1: critical reserved\n",
      "-  2: sanitary affine\n",
      " <br/>\n",
      " -  3: jaunty hedonists\n",
      "</p>\n",
      "<h3>\n",
      " 1.11. LP_LEBENSPHASE_FEIN\n",
      "</h3>\n",
      "<p>\n",
      " Life stage, fine scale\n",
      "-  1: single low-income earners of younger age\n",
      "-  2: single low-income earners of middle age\n",
      "-  3: single average earners of younger age\n",
      "-  4: single average earners of middle age\n",
      "-  5: single low-income earners of advanced age\n",
      "-  6: single low-income earners at retirement age\n",
      "-  7: single average earners of advanced age\n",
      "-  8: single average earners at retirement age\n",
      "-  9: single independent persons\n",
      "- 10: wealthy single homeowners\n",
      "- 11: single homeowners of advanced age\n",
      "- 12: single homeowners at retirement age\n",
      "- 13: single top earners of higher age\n",
      "- 14: low-income and average earner couples of younger age\n",
      "- 15: low-income earner couples of higher age\n",
      "- 16: average earner couples of higher age\n",
      "- 17: independent couples\n",
      "- 18: wealthy homeowner couples of younger age\n",
      "- 19: homeowner couples of higher age\n",
      "- 20: top earner couples of higher age\n",
      "- 21: single parent low-income earners\n",
      "- 22: single parent average earners\n",
      "- 23: single parent high-income earners\n",
      "- 24: low-income earner families\n",
      "- 25: average earner families\n",
      "- 26: independent families\n",
      "- 27: homeowner families\n",
      "- 28: top earner families\n",
      "- 29: low-income earners of younger age from multiperson households\n",
      "- 30: average earners of younger age from multiperson households\n",
      "- 31: low-income earners of higher age from multiperson households\n",
      "- 32: average earners of higher age from multiperson households\n",
      "- 33: independent persons of younger age from multiperson households\n",
      "- 34: homeowners of younger age from multiperson households\n",
      "- 35: top earners of younger age from multiperson households\n",
      "- 36: independent persons of higher age from multiperson households\n",
      "- 37: homeowners of advanced age from multiperson households\n",
      "- 38: homeowners at retirement age from multiperson households\n",
      "- 39: top earners of middle age from multiperson households\n",
      "- 40: top earners at retirement age from multiperson households\n",
      "</p>\n",
      "<h3>\n",
      " 1.12. LP_LEBENSPHASE_GROB\n",
      "</h3>\n",
      "<p>\n",
      " Life stage, rough scale\n",
      "-  1: single low-income and average earners of younger age\n",
      "-  2: single low-income and average earners of higher age\n",
      "-  3: single high-income earners\n",
      "-  4: single low-income and average-earner couples\n",
      "-  5: single high-income earner couples\n",
      "-  6: single parents\n",
      "-  7: single low-income and average earner families\n",
      "-  8: high-income earner families\n",
      "-  9: average earners of younger age from multiperson households\n",
      "- 10: low-income and average earners of higher age from multiperson households\n",
      "- 11: high-income earners of younger age from multiperson households\n",
      "- 12: high-income earners of higher age from multiperson households\n",
      "</p>\n",
      "<h3>\n",
      " 1.13. LP_FAMILIE_FEIN\n",
      "</h3>\n",
      "<p>\n",
      " Family type, fine scale\n",
      "-  0: unknown\n",
      "-  1: single\n",
      "-  2: couple\n",
      "-  3: young single parent\n",
      "-  4: single parent with teenager\n",
      "-  5: single parent with child of full age\n",
      "-  6: young family\n",
      "-  7: family with teenager\n",
      "-  8: family with child of full age\n",
      "-  9: shared flat\n",
      "- 10: two-generational household\n",
      "- 11: multi-generational household\n",
      "</p>\n",
      "<h3>\n",
      " 1.14. LP_FAMILIE_GROB\n",
      "</h3>\n",
      "<p>\n",
      " Family type, rough scale\n",
      "- 0: unknown\n",
      "- 1: single (maps to 1 in fine scale)\n",
      "- 2: couple (maps to 2 in fine scale)\n",
      "- 3: single parent (maps to 3-5 in fine scale)\n",
      "- 4: family (maps to 6-8 in fine scale)\n",
      "- 5: multiperson household (maps to 9-11 in fine scale)\n",
      "</p>\n",
      "<h3>\n",
      " 1.15. LP_STATUS_FEIN\n",
      "</h3>\n",
      "<p>\n",
      " Social status, fine scale\n",
      "-  1: typical low-income earners\n",
      "-  2: orientation-seeking low-income earners\n",
      "-  3: aspiring low-income earners\n",
      "-  4: villagers\n",
      "-  5: minimalistic high-income earners\n",
      "-  6: independent workers\n",
      "-  7: title holder-households\n",
      "-  8: new houseowners\n",
      "-  9: houseowners\n",
      "- 10: top earners\n",
      "</p>\n",
      "<h3>\n",
      " 1.16. LP_STATUS_GROB\n",
      "</h3>\n",
      "<p>\n",
      " Social status, rough scale\n",
      "- 1: low-income earners (maps to 1-2 in fine scale)\n",
      "- 2: average earners (maps to 3-5 in fine scale)\n",
      "- 3: independents (maps to 6-7 in fine scale)\n",
      "- 4: houseowners (maps to 8-9 in fine scale)\n",
      "- 5: top earners (maps to 10 in fine scale)\n",
      "</p>\n",
      "<h3>\n",
      " 1.17. NATIONALITAET_KZ\n",
      "</h3>\n",
      "<p>\n",
      " Nationality based on given name analysis\n",
      "- -1: unknown\n",
      "-  0: unknown\n",
      "-  1: German-sounding\n",
      "-  2: foreign-sounding\n",
      "-  3: assimilated names\n",
      "</p>\n",
      "<h3>\n",
      " 1.18. PRAEGENDE_JUGENDJAHRE\n",
      "</h3>\n",
      "<p>\n",
      " Dominating movement of person's youth (avantgarde vs. mainstream; east vs. west)\n",
      "- -1: unknown\n",
      "-  0: unknown\n",
      "-  1: 40s - war years (Mainstream, E+W)\n",
      "-  2: 40s - reconstruction years (Avantgarde, E+W)\n",
      "-  3: 50s - economic miracle (Mainstream, E+W)\n",
      "-  4: 50s - milk bar / Individualisation (Avantgarde, E+W)\n",
      "-  5: 60s - economic miracle (Mainstream, E+W)\n",
      "-  6: 60s - generation 68 / student protestors (Avantgarde, W)\n",
      "-  7: 60s - opponents to the building of the Wall (Avantgarde, E)\n",
      "-  8: 70s - family orientation (Mainstream, E+W)\n",
      "-  9: 70s - peace movement (Avantgarde, E+W)\n",
      "- 10: 80s - Generation Golf (Mainstream, W)\n",
      "- 11: 80s - ecological awareness (Avantgarde, W)\n",
      "- 12: 80s - FDJ / communist party youth organisation (Mainstream, E)\n",
      "- 13: 80s - Swords into ploughshares (Avantgarde, E)\n",
      "- 14: 90s - digital media kids (Mainstream, E+W)\n",
      "- 15: 90s - ecological awareness (Avantgarde, E+W)\n",
      "</p>\n",
      "<h3>\n",
      " 1.19. RETOURTYP_BK_S\n",
      "</h3>\n",
      "<p>\n",
      " Return type\n",
      "- 0: unknown\n",
      "- 1: influenceable Crazy-Shopper\n",
      "- 2: demanding Heavy-Returner\n",
      "- 3: incentive-receptive Normal-Returner\n",
      "- 4: conservative Low-Returner\n",
      "- 5: determined Minimal-Returner\n",
      "</p>\n",
      "<h3>\n",
      " 1.20. SEMIO_SOZ, SEMIO_FAM, SEMIO_REL, SEMIO_MAT, SEMIO_VERT, SEMIO_LUST,\n",
      "</h3>\n",
      "<h3>\n",
      " SEMIO_ERL, SEMIO_KULT, SEMIO_RAT, SEMIO_KRIT, SEMIO_DOM, SEMIO_KAEM,\n",
      "</h3>\n",
      "<h3>\n",
      " SEMIO_PFLICHT, SEMIO_TRADV\n",
      "</h3>\n",
      "<p>\n",
      " Personality typology, for each dimension:\n",
      "- -1: unknown\n",
      "-  1: highest affinity\n",
      "-  2: very high affinity\n",
      "-  3: high affinity\n",
      "-  4: average affinity\n",
      "-  5: low affinity\n",
      "-  6: very low affinity\n",
      "-  7: lowest affinity\n",
      "-  9: unknown\n",
      "</p>\n",
      "<p>\n",
      " Dimension translations:\n",
      "- SOZ: socially-minded\n",
      "- FAM: family-minded\n",
      "- REL: religious\n",
      "- MAT: materialistic\n",
      "- VERT: dreamful\n",
      "- LUST: sensual-minded\n",
      "- ERL: event-oriented\n",
      "- KULT: cultural-minded\n",
      "- RAT: rational\n",
      "- KRIT: critical-minded\n",
      "- DOM: dominant-minded\n",
      "- KAEM: combative attitude\n",
      "- PFLICHT: dutiful\n",
      "- TRADV: tradional-minded\n",
      "</p>\n",
      "<h3>\n",
      " 1.21. SHOPPER_TYP\n",
      "</h3>\n",
      "<p>\n",
      " Shopper typology\n",
      "- -1: unknown\n",
      "-  0: external supplied hedonists\n",
      "-  1: Shopping-stressed\n",
      "-  2: family-shopper\n",
      "-  3: demanding shopper\n",
      "</p>\n",
      "<h3>\n",
      " 1.22. SOHO_KZ\n",
      "</h3>\n",
      "<p>\n",
      " Small office / home office flag\n",
      "- -1: unknown\n",
      "- 0: no small office/home office\n",
      "- 1: small office/home office\n",
      "</p>\n",
      "<h3>\n",
      " 1.23. TITEL_KZ\n",
      "</h3>\n",
      "<p>\n",
      " Academic title flag\n",
      "- -1: unknown\n",
      "-  0: unknown\n",
      "-  1: Dr.\n",
      "-  2: Dr. Dr.\n",
      "-  3: Prof.\n",
      "-  4: Prof. Dr.\n",
      "-  5: other\n",
      "</p>\n",
      "<h3>\n",
      " 1.24. VERS_TYP\n",
      "</h3>\n",
      "<p>\n",
      " Insurance typology\n",
      "- -1: unknown\n",
      "-  1: social-safety driven\n",
      "-  2: individualistic-accepting risks\n",
      "</p>\n",
      "<h3>\n",
      " 1.25. ZABEOTYP\n",
      "</h3>\n",
      "<p>\n",
      " Energy consumption typology\n",
      "- -1: unknown\n",
      "-  1: green\n",
      "-  2: smart\n",
      "-  3: fair supplied\n",
      "-  4: price driven\n",
      "-  5: seeking orientation\n",
      "-  6: indifferent\n",
      "-  9: unknown\n",
      "</p>\n",
      "<hr/>\n",
      "<h2>\n",
      " 2. Household-level features\n",
      "</h2>\n",
      "<h3>\n",
      " 2.1. ALTER_HH\n",
      "</h3>\n",
      "<p>\n",
      " Birthdate of head of household\n",
      "-  0: unknown / no main age detectable\n",
      "-  1: 1895-01-01 to 1899-12-31\n",
      "-  2: 1900-01-01 to 1904-12-31\n",
      "-  3: 1905-01-01 to 1909-12-31\n",
      "-  4: 1910-01-01 to 1914-12-31\n",
      "-  5: 1915-01-01 to 1919-12-31\n",
      "-  6: 1920-01-01 to 1924-12-31\n",
      "-  7: 1925-01-01 to 1929-12-31\n",
      "-  8: 1930-01-01 to 1934-12-31\n",
      "-  9: 1935-01-01 to 1939-12-31\n",
      "- 10: 1940-01-01 to 1944-12-31\n",
      "- 11: 1945-01-01 to 1949-12-31\n",
      "- 12: 1950-01-01 to 1954-12-31\n",
      "- 13: 1955-01-01 to 1959-12-31\n",
      "- 14: 1960-01-01 to 1964-12-31\n",
      "- 15: 1965-01-01 to 1969-12-31\n",
      "- 16: 1970-01-01 to 1974-12-31\n",
      "- 17: 1975-01-01 to 1979-12-31\n",
      "- 18: 1980-01-01 to 1984-12-31\n",
      "- 19: 1985-01-01 to 1989-12-31\n",
      "- 20: 1990-01-01 to 1994-12-31\n",
      "- 21: 1995-01-01 to 1999-12-31\n",
      "</p>\n",
      "<h3>\n",
      " 2.2. ANZ_PERSONEN\n",
      "</h3>\n",
      "<p>\n",
      " Number of adults in household\n",
      "</p>\n",
      "<h3>\n",
      " 2.3. ANZ_TITEL\n",
      "</h3>\n",
      "<p>\n",
      " Number of professional academic title holders in household\n",
      "</p>\n",
      "<h3>\n",
      " 2.4. HH_EINKOMMEN_SCORE\n",
      "</h3>\n",
      "<p>\n",
      " Estimated household net income\n",
      "- -1: unknown\n",
      "-  0: unknown\n",
      "-  1: highest income\n",
      "-  2: very high income\n",
      "-  3: high income\n",
      "-  4: average income\n",
      "-  5: lower income\n",
      "-  6: very low income\n",
      "</p>\n",
      "<h3>\n",
      " 2.5. KK_KUNDENTYP\n",
      "</h3>\n",
      "<p>\n",
      " Consumer pattern over past 12 months\n",
      "- -1: unknown\n",
      "-  1: regular customer\n",
      "-  2: active customer\n",
      "-  3: new costumer\n",
      "-  4: stray customer\n",
      "-  5: inactive customer\n",
      "-  6: passive customer\n",
      "</p>\n",
      "<h3>\n",
      " 2.6. W_KEIT_KIND_HH\n",
      "</h3>\n",
      "<p>\n",
      " Likelihood of children in household\n",
      "- -1: unknown\n",
      "-  0: unknown\n",
      "-  1: most likely\n",
      "-  2: very likely\n",
      "-  3: likely\n",
      "-  4: average\n",
      "-  5: unlikely\n",
      "-  6: very unlikely\n",
      "</p>\n",
      "<h3>\n",
      " 2.7. WOHNDAUER_2008\n",
      "</h3>\n",
      "<p>\n",
      " Length of residence\n",
      "- -1: unknown\n",
      "-  0: unknown\n",
      "-  1: length of residence less than 1 year\n",
      "-  2: length of residence 1-2 years\n",
      "-  3: length of residence 2-3 years\n",
      "-  4: length of residence 3-4 years\n",
      "-  5: length of residence 4-5 years\n",
      "-  6: length of residence 5-6 years\n",
      "-  7: length of residence 6-7 years\n",
      "-  8: length of residence 7-10 years\n",
      "-  9: length of residence more than 10 years\n",
      "</p>\n",
      "<hr/>\n",
      "<h2>\n",
      " 3. Building-level features\n",
      "</h2>\n",
      "<h3>\n",
      " 3.1. ANZ_HAUSHALTE_AKTIV\n",
      "</h3>\n",
      "<p>\n",
      " Number of households in the building\n",
      "- missing values encoded by 0\n",
      "</p>\n",
      "<h3>\n",
      " 3.2. ANZ_HH_TITEL\n",
      "</h3>\n",
      "<p>\n",
      " Number of professional academic title holders in building\n",
      "</p>\n",
      "<h3>\n",
      " 3.3. GEBAEUDETYP\n",
      "</h3>\n",
      "<p>\n",
      " Type of building (residential vs. commercial)\n",
      "- -1: unknown\n",
      "-  0: unknown\n",
      "-  1: residential building\n",
      "-  2: residential building buildings without actually known household\n",
      "-  3: mixed (=residential and company) building\n",
      "-  4: mixed building without actually known household or company\n",
      "-  5: company building w/o known company\n",
      "-  6: mixed building without actually known household\n",
      "-  7: company building\n",
      "-  8: mixed building without actually known company\n",
      "</p>\n",
      "<h3>\n",
      " 3.4. KONSUMNAEHE\n",
      "</h3>\n",
      "<p>\n",
      " Distance from building to point of sale (PoS)\n",
      "- 1: building is located in a 125 x 125m grid cell (RA1), which is a\n",
      "     consumption cell\n",
      "- 2: building is located in a 250 x 250m grid cell that includes at least one\n",
      "     RA1-consumption cell\n",
      "- 3: building is located in a 500 x 500m grid cell that includes at least one\n",
      "     RA1-consumption cell\n",
      "- 4: building is located in a 1 x 1km grid cell that includes at least one\n",
      "     RA1-consumption cell\n",
      "- 5: building is located in a 2 x 2km grid cell that includes at least one\n",
      "     RA1-consumption cell\n",
      "- 6: building is located in a 10 x 10km grid cell that includes at least one\n",
      "     RA1-consumption cell\n",
      "- 7: building is not located in a 10 x 10km range of a consumption cell\n",
      "</p>\n",
      "<h3>\n",
      " 3.5. MIN_GEBAEUDEJAHR\n",
      "</h3>\n",
      "<p>\n",
      " First year building was mentioned in the database\n",
      "- missing values encoded by 0\n",
      "</p>\n",
      "<h3>\n",
      " 3.6. OST_WEST_KZ\n",
      "</h3>\n",
      "<p>\n",
      " Building location via former East / West Germany (GDR / FRG)\n",
      "- -1: unknown\n",
      "-  O: East (GDR)\n",
      "-  W: West (FRG)\n",
      "</p>\n",
      "<h3>\n",
      " 3.7. WOHNLAGE\n",
      "</h3>\n",
      "<p>\n",
      " Neighborhood quality (or rural flag)\n",
      "- -1: unknown\n",
      "-  0: no score calculated\n",
      "-  1: very good neighborhood\n",
      "-  2: good neighborhood\n",
      "-  3: average neighborhood\n",
      "-  4: poor neighborhood\n",
      "-  5: very poor neighborhood\n",
      "-  7: rural neighborhood\n",
      "-  8: new building in rural neighborhood\n",
      "</p>\n",
      "<hr/>\n",
      "<h2>\n",
      " 4. RR4 micro-cell features\n",
      "</h2>\n",
      "<h3>\n",
      " 4.1. CAMEO_DEUG_2015\n",
      "</h3>\n",
      "<p>\n",
      " German CAMEO: Wealth / Life Stage Typology, rough scale\n",
      "- -1: unknown\n",
      "-  1: upper class\n",
      "-  2: upper middleclass\n",
      "-  3: established middleclass\n",
      "-  4: consumption-oriented middleclass\n",
      "-  5: active middleclass\n",
      "-  6: low-consumption middleclass\n",
      "-  7: lower middleclass\n",
      "-  8: working class\n",
      "-  9: urban working class\n",
      "-  X: unknown\n",
      "</p>\n",
      "<h3>\n",
      " 4.2. CAMEO_DEU_2015\n",
      "</h3>\n",
      "<p>\n",
      " German CAMEO: Wealth / Life Stage Typology, detailed scale\n",
      "- 1A: Work-Life-Balance\n",
      "- 1B: Wealthy Best Ager\n",
      "- 1C: Successful Songwriter\n",
      "- 1D: Old Nobility\n",
      "- 1E: City Nobility\n",
      "- 2A: Cottage Chic\n",
      "- 2B: Noble Jogger\n",
      "- 2C: Established gourmet\n",
      "- 2D: Fine Management\n",
      "- 3A: Career &amp; Family\n",
      "- 3B: Powershopping Families\n",
      "- 3C: Rural Neighborhood\n",
      "- 3D: Secure Retirement\n",
      "- 4A: Family Starter\n",
      "- 4B: Family Life\n",
      "- 4C: String Trimmer\n",
      "- 4D: Empty Nest\n",
      "- 4E: Golden Ager\n",
      "- 5A: Younger Employees\n",
      "- 5B: Suddenly Family\n",
      "- 5C: Family First\n",
      "- 5D: Stock Market Junkies\n",
      "- 5E: Coffee Rider\n",
      "- 5F: Active Retirement\n",
      "- 6A: Jobstarter\n",
      "- 6B: Petty Bourgeois\n",
      "- 6C: Long-established\n",
      "- 6D: Sportgardener\n",
      "- 6E: Urban Parents\n",
      "- 6F: Frugal Aging\n",
      "- 7A: Journeymen\n",
      "- 7B: Mantaplatte\n",
      "- 7C: Factory Worker\n",
      "- 7D: Rear Window\n",
      "- 7E: Interested Retirees\n",
      "- 8A: Multi-culteral\n",
      "- 8B: Young &amp; Mobile\n",
      "- 8C: Prefab\n",
      "- 8D: Town Seniors\n",
      "- 9A: First Shared Apartment\n",
      "- 9B: Temporary Workers\n",
      "- 9C: Afternoon Talk Show\n",
      "- 9D: Mini-Jobber\n",
      "- 9E: Socking Away\n",
      "- XX: unknown\n",
      "</p>\n",
      "<h3>\n",
      " 4.3. CAMEO_INTL_2015\n",
      "</h3>\n",
      "<p>\n",
      " German CAMEO: Wealth / Life Stage Typology, mapped to international code\n",
      "- -1: unknown\n",
      "- 11: Wealthy Households - Pre-Family Couples &amp; Singles\n",
      "- 12: Wealthy Households - Young Couples With Children\n",
      "- 13: Wealthy Households - Families With School Age Children\n",
      "- 14: Wealthy Households - Older Families &amp;  Mature Couples\n",
      "- 15: Wealthy Households - Elders In Retirement\n",
      "- 21: Prosperous Households - Pre-Family Couples &amp; Singles\n",
      "- 22: Prosperous Households - Young Couples With Children\n",
      "- 23: Prosperous Households - Families With School Age Children\n",
      "- 24: Prosperous Households - Older Families &amp; Mature Couples\n",
      "- 25: Prosperous Households - Elders In Retirement\n",
      "- 31: Comfortable Households - Pre-Family Couples &amp; Singles\n",
      "- 32: Comfortable Households - Young Couples With Children\n",
      "- 33: Comfortable Households - Families With School Age Children\n",
      "- 34: Comfortable Households - Older Families &amp; Mature Couples\n",
      "- 35: Comfortable Households - Elders In Retirement\n",
      "- 41: Less Affluent Households - Pre-Family Couples &amp; Singles\n",
      "- 42: Less Affluent Households - Young Couples With Children\n",
      "- 43: Less Affluent Households - Families With School Age Children\n",
      "- 44: Less Affluent Households - Older Families &amp; Mature Couples\n",
      "- 45: Less Affluent Households - Elders In Retirement\n",
      "- 51: Poorer Households - Pre-Family Couples &amp; Singles\n",
      "- 52: Poorer Households - Young Couples With Children\n",
      "- 53: Poorer Households - Families With School Age Children\n",
      "- 54: Poorer Households - Older Families &amp; Mature Couples\n",
      "- 55: Poorer Households - Elders In Retirement\n",
      "- XX: unknown\n",
      "</p>\n",
      "<hr/>\n",
      "<h2>\n",
      " 5. RR3 micro-cell features\n",
      "</h2>\n",
      "<h3>\n",
      " 5.1. KBA05_ANTG1\n",
      "</h3>\n",
      "<p>\n",
      " Number of 1-2 family houses in the microcell\n",
      "- -1: unknown\n",
      "-  0: no 1-2 family homes\n",
      "-  1: lower share of 1-2 family homes\n",
      "-  2: average share of 1-2 family homes\n",
      "-  3: high share of 1-2 family homes\n",
      "-  4: very high share of 1-2 family homes\n",
      "</p>\n",
      "<h3>\n",
      " 5.2. KBA05_ANTG2\n",
      "</h3>\n",
      "<p>\n",
      " Number of 3-5 family houses in the microcell\n",
      "- -1: unknown\n",
      "-  0: no 3-5 family homes\n",
      "-  1: lower share of 3-5 family homes\n",
      "-  2: average share of 3-5 family homes\n",
      "-  3: high share of 3-5 family homes\n",
      "-  4: very high share of 3-5 family homes\n",
      "</p>\n",
      "<h3>\n",
      " 5.3. KBA05_ANTG3\n",
      "</h3>\n",
      "<p>\n",
      " Number of 6-10 family houses in the microcell\n",
      "- -1: unknown\n",
      "-  0: no 6-10 family homes\n",
      "-  1: lower share of 6-10 family homes\n",
      "-  2: average share of 6-10 family homes\n",
      "-  3: high share of 6-10 family homes\n",
      "</p>\n",
      "<h3>\n",
      " 5.4. KBA05_ANTG4\n",
      "</h3>\n",
      "<p>\n",
      " Number of 10+ family houses in the microcell\n",
      "- -1: unknown\n",
      "-  0: no 10+ family homes\n",
      "-  1: lower share of 10+ family homes\n",
      "-  2: high share of 10+ family homes\n",
      "</p>\n",
      "<h3>\n",
      " 5.5. KBA05_BAUMAX\n",
      "</h3>\n",
      "<p>\n",
      " Most common building type within the microcell\n",
      "- -1: unknown\n",
      "-  0: unknown\n",
      "-  1: mainly 1-2 family homes in the microcell\n",
      "-  2: mainly 3-5 family homes in the microcell\n",
      "-  3: mainly 6-10 family homes in the microcell\n",
      "-  4: mainly 10+ family homes in the microcell\n",
      "-  5: mainly business buildings in the microcell\n",
      "</p>\n",
      "<h3>\n",
      " 5.6. KBA05_GBZ\n",
      "</h3>\n",
      "<p>\n",
      " Number of buildings in the microcell\n",
      "- -1: unknown\n",
      "-  0: unknown\n",
      "-  1: 1-2 buildings\n",
      "-  2: 3-4 buildings\n",
      "-  3: 5-16 buildings\n",
      "-  4: 17-22 buildings\n",
      "-  5: &gt;=23 buildings\n",
      "</p>\n",
      "<hr/>\n",
      "<h2>\n",
      " 6. Postcode-level features\n",
      "</h2>\n",
      "<h3>\n",
      " 6.1. BALLRAUM\n",
      "</h3>\n",
      "<p>\n",
      " Distance to nearest urban center\n",
      "- -1: unknown\n",
      "-  1: less than 10 km\n",
      "-  2: 10 -  20 km\n",
      "-  3: 20 -  30 km\n",
      "-  4: 30 -  40 km\n",
      "-  5: 40 -  50 km\n",
      "-  6: 50 - 100 km\n",
      "-  7: more than 100 km\n",
      "</p>\n",
      "<h3>\n",
      " 6.2. EWDICHTE\n",
      "</h3>\n",
      "<p>\n",
      " Density of households per square kilometer\n",
      "- -1: unknown\n",
      "-  1: less than 34 households per km^2\n",
      "-  2:  34 -  89 households per km^2\n",
      "-  3:  90 - 149 households per km^2\n",
      "-  4: 150 - 319 households per km^2\n",
      "-  5: 320 - 999 households per km^2\n",
      "-  6: more than 999 households per km^2\n",
      "</p>\n",
      "<h3>\n",
      " 6.3. INNENSTADT\n",
      "</h3>\n",
      "<p>\n",
      " Distance to city center (downtown)\n",
      "- -1: unknown\n",
      "-  1: in city center\n",
      "-  2: less than 3 km to city center\n",
      "-  3:  3 -  5 km to city center\n",
      "-  4:  5 - 10 km to city center\n",
      "-  5: 10 - 20 km to city center\n",
      "-  6: 20 - 30 km to city center\n",
      "-  7: 30 - 40 km to city center\n",
      "-  8: more than 40 km to city center\n",
      "</p>\n",
      "<hr/>\n",
      "<h2>\n",
      " 7. RR1 region features\n",
      "</h2>\n",
      "<h3>\n",
      " 7.1. GEBAEUDETYP_RASTER\n",
      "</h3>\n",
      "<p>\n",
      " Ratio of residential to commercial activity\n",
      "- 1: business cell\n",
      "- 2: mixed cell with high business share\n",
      "- 3: mixed cell with middle business share\n",
      "- 4: mixed cell with low business share\n",
      "- 5: residential cell\n",
      "</p>\n",
      "<h3>\n",
      " 7.2. KKK\n",
      "</h3>\n",
      "<p>\n",
      " Purchasing power in region\n",
      "- -1; unknown\n",
      "-  0: unknown\n",
      "-  1: very high\n",
      "-  2: high\n",
      "-  3: average\n",
      "-  4: low\n",
      "</p>\n",
      "<h3>\n",
      " 7.3. MOBI_REGIO\n",
      "</h3>\n",
      "<p>\n",
      " Movement patterns\n",
      "- 1: very high movement\n",
      "- 2: high movement\n",
      "- 3: middle movement\n",
      "- 4: low movement\n",
      "- 5: very low movement\n",
      "- 6: none\n",
      "</p>\n",
      "<h3>\n",
      " 7.4. ONLINE_AFFINITAET\n",
      "</h3>\n",
      "<p>\n",
      " Online affinity\n",
      "- 0: none\n",
      "- 1: low\n",
      "- 2: middle\n",
      "- 3: high\n",
      "- 4: very high\n",
      "- 5: highest\n",
      "</p>\n",
      "<h3>\n",
      " 7.5. REGIOTYP\n",
      "</h3>\n",
      "<p>\n",
      " Neighborhood typology\n",
      "- -1: unknown\n",
      "-  0: unknown\n",
      "-  1: upper class\n",
      "-  2: conservatives\n",
      "-  3: upper middle class\n",
      "-  4: middle class\n",
      "-  5: lower middle class\n",
      "-  6: traditional workers\n",
      "-  7: marginal groups\n",
      "</p>\n",
      "<hr/>\n",
      "<h2>\n",
      " 8. PLZ8 macro-cell features\n",
      "</h2>\n",
      "<h3>\n",
      " 8.1. KBA13_ANZAHL_PKW\n",
      "</h3>\n",
      "<p>\n",
      " Number of cars in the PLZ8 region\n",
      "</p>\n",
      "<h3>\n",
      " 8.2. PLZ8_ANTG1\n",
      "</h3>\n",
      "<p>\n",
      " Number of 1-2 family houses in the PLZ8 region\n",
      "- -1: unknown\n",
      "-  0: no 1-2 family homes\n",
      "-  1: lower share of 1-2 family homes\n",
      "-  2: average share of 1-2 family homes\n",
      "-  3: high share of 1-2 family homes\n",
      "-  4: very high share of 1-2 family homes\n",
      "</p>\n",
      "<h3>\n",
      " 8.3. PLZ8_ANTG2\n",
      "</h3>\n",
      "<p>\n",
      " Number of 3-5 family houses in the PLZ8 region\n",
      "- -1: unknown\n",
      "-  0: no 3-5 family homes\n",
      "-  1: lower share of 3-5 family homes\n",
      "-  2: average share of 3-5 family homes\n",
      "-  3: high share of 3-5 family homes\n",
      "-  4: very high share of 3-5 family homes\n",
      "</p>\n",
      "<h3>\n",
      " 8.4. PLZ8_ANTG3\n",
      "</h3>\n",
      "<p>\n",
      " Number of 6-10 family houses in the PLZ8 region\n",
      "- -1: unknown\n",
      "-  0: no 6-10 family homes\n",
      "-  1: lower share of 6-10 family homes\n",
      "-  2: average share of 6-10 family homes\n",
      "-  3: high share of 6-10 family homes\n",
      "</p>\n",
      "<h3>\n",
      " 8.5. PLZ8_ANTG4\n",
      "</h3>\n",
      "<p>\n",
      " Number of 10+ family houses in the PLZ8 region\n",
      "- -1: unknown\n",
      "-  0: no 10+ family homes\n",
      "-  1: lower share of 10+ family homes\n",
      "-  2: high share of 10+ family homes\n",
      "</p>\n",
      "<h3>\n",
      " 8.6. PLZ8_BAUMAX\n",
      "</h3>\n",
      "<p>\n",
      " Most common building type within the PLZ8 region\n",
      "- -1: unknown\n",
      "-  0: unknown\n",
      "-  1: mainly 1-2 family homes\n",
      "-  2: mainly 3-5 family homes\n",
      "-  3: mainly 6-10 family homes\n",
      "-  4: mainly 10+ family homes\n",
      "-  5: mainly business buildings\n",
      "</p>\n",
      "<h3>\n",
      " 8.7. PLZ8_HHZ\n",
      "</h3>\n",
      "<p>\n",
      " Number of households within the PLZ8 region\n",
      "- -1: unknown\n",
      "-  1: less than 130 households\n",
      "-  2: 131-299 households\n",
      "-  3: 300-599 households\n",
      "-  4: 600-849 households\n",
      "-  5: more than 849 households\n",
      "</p>\n",
      "<h3>\n",
      " 8.8. PLZ8_GBZ\n",
      "</h3>\n",
      "<p>\n",
      " Number of buildings within the PLZ8 region\n",
      "- -1: unknown\n",
      "-  1: less than 60 buildings\n",
      "-  2:  60-129 buildings\n",
      "-  3: 130-299 buildings\n",
      "-  4: 300-449 buildings\n",
      "-  5: more than 449 buildings\n",
      "</p>\n",
      "<hr/>\n",
      "<h2>\n",
      " 9. Community-level features\n",
      "</h2>\n",
      "<h3>\n",
      " 9.1. ARBEIT\n",
      "</h3>\n",
      "<p>\n",
      " Share of unemployment in community\n",
      "- -1: unknown\n",
      "-  1: very low\n",
      "-  2: low\n",
      "-  3: average\n",
      "-  4: high\n",
      "-  5: very high\n",
      "-  9: unknown\n",
      "</p>\n",
      "<h3>\n",
      " 9.2. ORTSGR_KLS9\n",
      "</h3>\n",
      "<p>\n",
      " Size of community\n",
      "- -1: unknown\n",
      "-  1: &lt;= 2,000 inhabitants\n",
      "-  2:   2,001 to   5,000 inhabitants\n",
      "-  3:   5,001 to  10,000 inhabitants\n",
      "-  4:  10,001 to  20,000 inhabitants\n",
      "-  5:  20,001 to  50,000 inhabitants\n",
      "-  6:  50,001 to 100,000 inhabitants\n",
      "-  7: 100,001 to 300,000 inhabitants\n",
      "-  8: 300,001 to 700,000 inhabitants\n",
      "-  9: &gt; 700,000  inhabitants\n",
      "</p>\n",
      "<h3>\n",
      " 9.3. RELAT_AB\n",
      "</h3>\n",
      "<p>\n",
      " Share of unemployment relative to county in which community is contained\n",
      "- -1: unknown\n",
      "-  1: very low\n",
      "-  2: low\n",
      "-  3: average\n",
      "-  4: high\n",
      "-  5: very high\n",
      "-  9: unknown\n",
      "</p>\n"
     ]
    }
   ],
   "source": [
    "import re\n",
    "# load dictionary\n",
    "html = markdown.markdown(open(\"Data_Dictionary.md\").read())\n",
    "# parse the html using beautiful soup and store in variable `soup`\n",
    "soup = BeautifulSoup(html, 'html.parser')\n",
    "\n",
    "print(soup.prettify())"
   ]
  },
  {
   "cell_type": "code",
   "execution_count": 43,
   "metadata": {},
   "outputs": [
    {
     "data": {
      "text/plain": [
       "array([ 14.,  15.,   8.,   3.,  10.,  11.,   5.,   9.,   6.,   4.,  nan,\n",
       "         2.,   1.,  12.,  13.,   7.])"
      ]
     },
     "execution_count": 43,
     "metadata": {},
     "output_type": "execute_result"
    }
   ],
   "source": [
    "# Investigate \"PRAEGENDE_JUGENDJAHRE\" and engineer two new variables.\n",
    "'''\n",
    "1.18. PRAEGENDE_JUGENDJAHRE\n",
    "</h3>\n",
    "<p>\n",
    " Dominating movement of person's youth (avantgarde vs. mainstream; east vs. west)\n",
    "- -1: unknown\n",
    "-  0: unknown\n",
    "-  1: 40s - war years (Mainstream, E+W)\n",
    "-  2: 40s - reconstruction years (Avantgarde, E+W)\n",
    "-  3: 50s - economic miracle (Mainstream, E+W)\n",
    "-  4: 50s - milk bar / Individualisation (Avantgarde, E+W)\n",
    "-  5: 60s - economic miracle (Mainstream, E+W)\n",
    "-  6: 60s - generation 68 / student protestors (Avantgarde, W)\n",
    "-  7: 60s - opponents to the building of the Wall (Avantgarde, E)\n",
    "-  8: 70s - family orientation (Mainstream, E+W)\n",
    "-  9: 70s - peace movement (Avantgarde, E+W)\n",
    "- 10: 80s - Generation Golf (Mainstream, W)\n",
    "- 11: 80s - ecological awareness (Avantgarde, W)\n",
    "- 12: 80s - FDJ / communist party youth organisation (Mainstream, E)\n",
    "- 13: 80s - Swords into ploughshares (Avantgarde, E)\n",
    "- 14: 90s - digital media kids (Mainstream, E+W)\n",
    "- 15: 90s - ecological awareness (Avantgarde, E+W)\n",
    "'''\n",
    "# unique values in 'PRAEGENDE_JUGENDJAHRE'\n",
    "subset1['PRAEGENDE_JUGENDJAHRE'].unique()"
   ]
  },
  {
   "cell_type": "code",
   "execution_count": 44,
   "metadata": {},
   "outputs": [],
   "source": [
    "# need to get new variables for an interval-type variable for decade, \n",
    "# and a binary variable for movement.\n",
    "# all possible values\n",
    "\n",
    "range_variables = np.arange(-1,16)\n",
    "decades = [np.nan, np.nan, 40, 40, 50, 50, 60, 60, 60, 70, 70, 80, 80, 80, 80, 90, 90]\n",
    "movs = [np.nan, np.nan, 0,1,0,1,0,1,1,0,1,0,1,0,1,0,1]\n",
    "\n",
    "dict_decade = dict(zip(range_variables, decades))\n",
    "\n",
    "# mainstream : 0, avantgarden : 1\n",
    "dict_mov = dict(zip(range_variables, movs))\n",
    "\n",
    "'''\n",
    "dict_decade = {-1.0: np.nan,\n",
    "            0.0: np.nan,\n",
    "              1.0: 40,\n",
    "              2.0: 40,\n",
    "              3.0: 50,\n",
    "              4.0: 50,\n",
    "              5.0: 60,\n",
    "              6.0: 60,\n",
    "              7.0: 60,\n",
    "              8.0: 70,\n",
    "              9.0: 70,\n",
    "              10.0: 80,\n",
    "              11.0: 80,\n",
    "              12.0: 80,\n",
    "              13.0: 80,\n",
    "              14.0: 90,\n",
    "              15.0: 90,\n",
    "              np.nan: np.nan}\n",
    "\n",
    "# mainstream : 0, avantgarden : 1\n",
    "dict_mov = {-1.0: np.nan,\n",
    "            0.0: np.nan,\n",
    "              1.0: 0,\n",
    "              2.0: 1,\n",
    "              3.0: 0,\n",
    "              4.0: 1,\n",
    "              5.0: 0,\n",
    "              6.0: 1,\n",
    "              7.0: 1,\n",
    "              8.0: 0,\n",
    "              9.0: 1,\n",
    "              10.0: 0,\n",
    "              11.0: 1,\n",
    "              12.0: 0,\n",
    "              13.0: 1,\n",
    "              14.0: 0,\n",
    "              15.0: 1}\n",
    "'''\n",
    "decade = []\n",
    "movement = []\n",
    "for a in np.array(subset1['PRAEGENDE_JUGENDJAHRE']):\n",
    "    if math.isnan(a):\n",
    "        decade.append(np.nan)\n",
    "        movement.append(np.nan)\n",
    "    else:\n",
    "        decade.append(dict_decade[a])\n",
    "        movement.append(dict_mov[a])\n",
    "\n",
    "subset1['PRAEGENDE_JUGENDJAHRE_DEC'] = decade\n",
    "subset1['PRAEGENDE_JUGENDJAHRE_MOV'] = movement"
   ]
  },
  {
   "cell_type": "code",
   "execution_count": 45,
   "metadata": {},
   "outputs": [
    {
     "data": {
      "text/plain": [
       "array(['51', '24', '12', '43', '54', '22', '14', '13', '15', '33', '41',\n",
       "       '34', '55', nan, '25', '23', '31', '52', '35', '45', '44', '32'], dtype=object)"
      ]
     },
     "execution_count": 45,
     "metadata": {},
     "output_type": "execute_result"
    }
   ],
   "source": [
    "# Investigate \"CAMEO_INTL_2015\" and engineer two new variables.\n",
    "'''\n",
    "4.3. CAMEO_INTL_2015\n",
    "</h3>\n",
    "<p>\n",
    " German CAMEO: Wealth / Life Stage Typology, mapped to international code\n",
    "- -1: unknown\n",
    "- 11: Wealthy Households - Pre-Family Couples &amp; Singles\n",
    "- 12: Wealthy Households - Young Couples With Children\n",
    "- 13: Wealthy Households - Families With School Age Children\n",
    "- 14: Wealthy Households - Older Families &amp;  Mature Couples\n",
    "- 15: Wealthy Households - Elders In Retirement\n",
    "- 21: Prosperous Households - Pre-Family Couples &amp; Singles\n",
    "- 22: Prosperous Households - Young Couples With Children\n",
    "- 23: Prosperous Households - Families With School Age Children\n",
    "- 24: Prosperous Households - Older Families &amp; Mature Couples\n",
    "- 25: Prosperous Households - Elders In Retirement\n",
    "- 31: Comfortable Households - Pre-Family Couples &amp; Singles\n",
    "- 32: Comfortable Households - Young Couples With Children\n",
    "- 33: Comfortable Households - Families With School Age Children\n",
    "- 34: Comfortable Households - Older Families &amp; Mature Couples\n",
    "- 35: Comfortable Households - Elders In Retirement\n",
    "- 41: Less Affluent Households - Pre-Family Couples &amp; Singles\n",
    "- 42: Less Affluent Households - Young Couples With Children\n",
    "- 43: Less Affluent Households - Families With School Age Children\n",
    "- 44: Less Affluent Households - Older Families &amp; Mature Couples\n",
    "- 45: Less Affluent Households - Elders In Retirement\n",
    "- 51: Poorer Households - Pre-Family Couples &amp; Singles\n",
    "- 52: Poorer Households - Young Couples With Children\n",
    "- 53: Poorer Households - Families With School Age Children\n",
    "- 54: Poorer Households - Older Families &amp; Mature Couples\n",
    "- 55: Poorer Households - Elders In Retirement\n",
    "- XX: unknown\n",
    "</p>\n",
    "'''\n",
    "# unique values in 'CAMEO_INTL_2015'\n",
    "subset1['CAMEO_INTL_2015'].unique()"
   ]
  },
  {
   "cell_type": "code",
   "execution_count": 46,
   "metadata": {},
   "outputs": [],
   "source": [
    "'''\n",
    "\"CAMEO_INTL_2015\" combines information on two axes: wealth and life stage. \n",
    "    Break up the two-digit codes by their 'tens'-place and 'ones'-place \n",
    "    digits into two new ordinal variables (which, for the purposes of \n",
    "    this project, is equivalent to just treating them as their \n",
    "    raw numeric values).\n",
    "'''\n",
    "ones = []\n",
    "tens = []\n",
    "for a in subset1['CAMEO_INTL_2015']:\n",
    "    a = float(a)\n",
    "    if math.isnan(a):\n",
    "        ones.append(np.nan)\n",
    "        tens.append(np.nan)\n",
    "    else:\n",
    "        ones.append(a%10)\n",
    "        tens.append(int(a/10))\n",
    "\n",
    "subset1['CAMEO_INTL_2015_ONES'] = ones\n",
    "subset1['CAMEO_INTL_2015_TENS'] = tens"
   ]
  },
  {
   "cell_type": "code",
   "execution_count": 47,
   "metadata": {},
   "outputs": [
    {
     "data": {
      "text/plain": [
       "LP_LEBENSPHASE_FEIN      40\n",
       "LP_LEBENSPHASE_GROB      12\n",
       "PRAEGENDE_JUGENDJAHRE    15\n",
       "WOHNLAGE                  8\n",
       "CAMEO_INTL_2015          21\n",
       "PLZ8_BAUMAX               5\n",
       "dtype: int64"
      ]
     },
     "execution_count": 47,
     "metadata": {},
     "output_type": "execute_result"
    }
   ],
   "source": [
    "# other mixed features\n",
    "mixed = feat_info[feat_info['type'] == 'mixed'].attribute.tolist()\n",
    "\n",
    "# count categorical variables\n",
    "mix_variables = subset1[mixed].nunique()\n",
    "mix_variables"
   ]
  },
  {
   "cell_type": "code",
   "execution_count": 48,
   "metadata": {
    "scrolled": true
   },
   "outputs": [
    {
     "data": {
      "text/plain": [
       "array([ 21.,   3.,  nan,  32.,   8.,   2.,   5.,  10.,   4.,   6.,  23.,\n",
       "        12.,  20.,   1.,  11.,  25.,  13.,  18.,  31.,  38.,  35.,  30.,\n",
       "         7.,  22.,  14.,  29.,  24.,  28.,  37.,  26.,  39.,  27.,  36.,\n",
       "         9.,  34.,  33.,  15.,  40.,  16.,  19.,  17.])"
      ]
     },
     "execution_count": 48,
     "metadata": {},
     "output_type": "execute_result"
    }
   ],
   "source": [
    "'''\n",
    "1.11. LP_LEBENSPHASE_FEIN\n",
    "</h3>\n",
    "<p>\n",
    " Life stage, fine scale\n",
    "-  1: single low-income earners of younger age\n",
    "-  2: single low-income earners of middle age\n",
    "-  3: single average earners of younger age\n",
    "-  4: single average earners of middle age\n",
    "-  5: single low-income earners of advanced age\n",
    "-  6: single low-income earners at retirement age\n",
    "-  7: single average earners of advanced age\n",
    "-  8: single average earners at retirement age\n",
    "-  9: single independent persons\n",
    "- 10: wealthy single homeowners\n",
    "- 11: single homeowners of advanced age\n",
    "- 12: single homeowners at retirement age\n",
    "- 13: single top earners of higher age\n",
    "- 14: low-income and average earner couples of younger age\n",
    "- 15: low-income earner couples of higher age\n",
    "- 16: average earner couples of higher age\n",
    "- 17: independent couples\n",
    "- 18: wealthy homeowner couples of younger age\n",
    "- 19: homeowner couples of higher age\n",
    "- 20: top earner couples of higher age\n",
    "- 21: single parent low-income earners\n",
    "- 22: single parent average earners\n",
    "- 23: single parent high-income earners\n",
    "- 24: low-income earner families\n",
    "- 25: average earner families\n",
    "- 26: independent families\n",
    "- 27: homeowner families\n",
    "- 28: top earner families\n",
    "- 29: low-income earners of younger age from multiperson households\n",
    "- 30: average earners of younger age from multiperson households\n",
    "- 31: low-income earners of higher age from multiperson households\n",
    "- 32: average earners of higher age from multiperson households\n",
    "- 33: independent persons of younger age from multiperson households\n",
    "- 34: homeowners of younger age from multiperson households\n",
    "- 35: top earners of younger age from multiperson households\n",
    "- 36: independent persons of higher age from multiperson households\n",
    "- 37: homeowners of advanced age from multiperson households\n",
    "- 38: homeowners at retirement age from multiperson households\n",
    "- 39: top earners of middle age from multiperson households\n",
    "- 40: top earners at retirement age from multiperson households\n",
    "</p>\n",
    "'''\n",
    "subset1['LP_LEBENSPHASE_FEIN'].unique()"
   ]
  },
  {
   "cell_type": "code",
   "execution_count": 49,
   "metadata": {},
   "outputs": [
    {
     "data": {
      "text/plain": [
       "array([  6.,   1.,  nan,  10.,   2.,   3.,   5.,   7.,  12.,  11.,   9.,\n",
       "         4.,   8.])"
      ]
     },
     "execution_count": 49,
     "metadata": {},
     "output_type": "execute_result"
    }
   ],
   "source": [
    "'''\n",
    "1.12. LP_LEBENSPHASE_GROB\n",
    "</h3>\n",
    "<p>\n",
    " Life stage, rough scale\n",
    "-  1: single low-income and average earners of younger age\n",
    "-  2: single low-income and average earners of higher age\n",
    "-  3: single high-income earners\n",
    "-  4: single low-income and average-earner couples\n",
    "-  5: single high-income earner couples\n",
    "-  6: single parents\n",
    "-  7: single low-income and average earner families\n",
    "-  8: high-income earner families\n",
    "-  9: average earners of younger age from multiperson households\n",
    "- 10: low-income and average earners of higher age from multiperson households\n",
    "- 11: high-income earners of younger age from multiperson households\n",
    "- 12: high-income earners of higher age from multiperson households\n",
    "</p>\n",
    "'''\n",
    "\n",
    "subset1['LP_LEBENSPHASE_GROB'].unique()"
   ]
  },
  {
   "cell_type": "code",
   "execution_count": 50,
   "metadata": {},
   "outputs": [],
   "source": [
    "# remove 'LP_LEBENSPHASE_FEIN', similar information \n",
    "# than 'LP_LEBENSPHASE_GROB'\n",
    "subset1 = subset1.drop(columns='LP_LEBENSPHASE_FEIN')"
   ]
  },
  {
   "cell_type": "code",
   "execution_count": 51,
   "metadata": {},
   "outputs": [
    {
     "data": {
      "text/plain": [
       "array([ 4.,  2.,  7.,  3.,  5.,  1.,  8.,  0.])"
      ]
     },
     "execution_count": 51,
     "metadata": {},
     "output_type": "execute_result"
    }
   ],
   "source": [
    "'''\n",
    "3.7. WOHNLAGE\n",
    "</h3>\n",
    "<p>\n",
    " Neighborhood quality (or rural flag)\n",
    "- -1: unknown\n",
    "-  0: no score calculated\n",
    "-  1: very good neighborhood\n",
    "-  2: good neighborhood\n",
    "-  3: average neighborhood\n",
    "-  4: poor neighborhood\n",
    "-  5: very poor neighborhood\n",
    "-  7: rural neighborhood\n",
    "-  8: new building in rural neighborhood\n",
    "</p>\n",
    "'''\n",
    "\n",
    "subset1['WOHNLAGE'].unique()"
   ]
  },
  {
   "cell_type": "code",
   "execution_count": 52,
   "metadata": {},
   "outputs": [
    {
     "data": {
      "text/plain": [
       "array([  1.,   2.,  nan,   4.,   5.,   3.])"
      ]
     },
     "execution_count": 52,
     "metadata": {},
     "output_type": "execute_result"
    }
   ],
   "source": [
    "'''\n",
    "8.6. PLZ8_BAUMAX\n",
    "</h3>\n",
    "<p>\n",
    " Most common building type within the PLZ8 region\n",
    "- -1: unknown\n",
    "-  0: unknown\n",
    "-  1: mainly 1-2 family homes\n",
    "-  2: mainly 3-5 family homes\n",
    "-  3: mainly 6-10 family homes\n",
    "-  4: mainly 10+ family homes\n",
    "-  5: mainly business buildings\n",
    "</p>\n",
    "'''\n",
    "\n",
    "subset1['PLZ8_BAUMAX'].unique()"
   ]
  },
  {
   "cell_type": "code",
   "execution_count": 53,
   "metadata": {},
   "outputs": [
    {
     "name": "stdout",
     "output_type": "stream",
     "text": [
      "Step 1.2.2: Engineer Mixed-Type Features, rows : 797961, columns: 69\n"
     ]
    }
   ],
   "source": [
    "print(\"Step 1.2.2: Engineer Mixed-Type Features, rows : {}, columns: {}\".format(subset1.shape[0], subset1.shape[1]))"
   ]
  },
  {
   "cell_type": "markdown",
   "metadata": {},
   "source": [
    "#### Discussion 1.2.2: Engineer Mixed-Type Features\n",
    "\n",
    "\n",
    "I dropped 'LP_LEBENSPHASE_FEIN', because has similar information from 'LP_LEBENSPHASE_GROB'\n",
    "\n",
    "For 'PRAEGENDE_JUGENDJAHRE' I created 'PRAEGENDE_JUGENDJAHRE_DEC' and 'PRAEGENDE_JUGENDJAHRE_MOV' that store the decade (50, 60, 70, 80, 90) and the movement (0 and 1).\n",
    "\n",
    "For 'CAMEO_INTL_2015' I created 'CAMEO_INTL_2015_ONES' and 'CAMEO_INTL_2015_TENS' to store the year and decade\n",
    "\n",
    "I kept all the other mixed features."
   ]
  },
  {
   "cell_type": "markdown",
   "metadata": {},
   "source": [
    "#### Step 1.2.3: Complete Feature Selection\n",
    "\n",
    "In order to finish this step up, you need to make sure that your data frame now only has the columns that you want to keep. To summarize, the dataframe should consist of the following:\n",
    "- All numeric, interval, and ordinal type columns from the original dataset.\n",
    "- Binary categorical features (all numerically-encoded).\n",
    "- Engineered features from other multi-level categorical features and mixed features.\n",
    "\n",
    "Make sure that for any new columns that you have engineered, that you've excluded the original columns from the final dataset. Otherwise, their values will interfere with the analysis later on the project. For example, you should not keep \"PRAEGENDE_JUGENDJAHRE\", since its values won't be useful for the algorithm: only the values derived from it in the engineered features you created should be retained. As a reminder, your data should only be from **the subset with few or no missing values**."
   ]
  },
  {
   "cell_type": "code",
   "execution_count": 54,
   "metadata": {},
   "outputs": [],
   "source": [
    "# remove original columns re-engineering\n",
    "re_engineered = ['PRAEGENDE_JUGENDJAHRE', 'CAMEO_INTL_2015']\n",
    "subset1 = subset1.drop(columns=re_engineered)\n",
    "\n",
    "for column in re_engineered:\n",
    "    feat_info= feat_info[feat_info.attribute != column]"
   ]
  },
  {
   "cell_type": "code",
   "execution_count": 55,
   "metadata": {},
   "outputs": [
    {
     "data": {
      "text/plain": [
       "ordinal        49\n",
       "numeric         6\n",
       "categorical     5\n",
       "mixed           4\n",
       "Name: type, dtype: int64"
      ]
     },
     "execution_count": 55,
     "metadata": {},
     "output_type": "execute_result"
    }
   ],
   "source": [
    "# If there are other re-engineering tasks you need to perform, make sure you\n",
    "# take care of them here. (Dealing with missing data will come in step 2.1.)\n",
    "feat_info.type.value_counts()"
   ]
  },
  {
   "cell_type": "code",
   "execution_count": 56,
   "metadata": {},
   "outputs": [
    {
     "name": "stdout",
     "output_type": "stream",
     "text": [
      "ANREDE_KZ: 2 int64\n",
      "GREEN_AVANTGARDE: 2 int64\n",
      "SOHO_KZ: 2 float64\n",
      "VERS_TYP: 3 float64\n",
      "OST_WEST_KZ: 2 int64\n"
     ]
    }
   ],
   "source": [
    "# categorical feautures should be binary and numeric\n",
    "categorical = feat_info[feat_info.type == 'categorical'].attribute.tolist()\n",
    "for column in categorical:\n",
    "    print(column + ': ' + str(len(subset1[column].unique())) + ' ' + str(subset1[column].dtype))"
   ]
  },
  {
   "cell_type": "code",
   "execution_count": 57,
   "metadata": {},
   "outputs": [
    {
     "data": {
      "text/plain": [
       " 2.0    394229\n",
       " 1.0    367052\n",
       "NaN      36680\n",
       "Name: VERS_TYP, dtype: int64"
      ]
     },
     "execution_count": 57,
     "metadata": {},
     "output_type": "execute_result"
    }
   ],
   "source": [
    "subset1['VERS_TYP'].value_counts(dropna=False)"
   ]
  },
  {
   "cell_type": "code",
   "execution_count": 58,
   "metadata": {},
   "outputs": [],
   "source": [
    "# remove 'VERS_TYP' because is not binary, has some Nan\n",
    "feat_info= feat_info[feat_info.attribute != 'VERS_TYP']\n",
    "subset1 = subset1.drop(columns = 'VERS_TYP')"
   ]
  },
  {
   "cell_type": "code",
   "execution_count": 59,
   "metadata": {},
   "outputs": [],
   "source": [
    "# Do whatever you need to in order to ensure that the dataframe only contains\n",
    "# the columns that should be passed to the algorithm functions.\n",
    "\n",
    "def check_columns(type_feature):\n",
    "    \n",
    "    columns = feat_info[feat_info.type == 'type_feature'].attribute.tolist()\n",
    "\n",
    "    for column in columns:\n",
    "        if not column in subset1.columns:\n",
    "            print(\"missing :\", column)\n",
    "\n",
    "check_columns('numeric')\n",
    "check_columns('interval')\n",
    "check_columns('ordinal')"
   ]
  },
  {
   "cell_type": "code",
   "execution_count": 60,
   "metadata": {},
   "outputs": [
    {
     "name": "stdout",
     "output_type": "stream",
     "text": [
      "Step 1.2.3: Complete Feature Selection, rows : 797961, columns: 66\n"
     ]
    }
   ],
   "source": [
    "print(\"Step 1.2.3: Complete Feature Selection, rows : {}, columns: {}\".format(subset1.shape[0], subset1.shape[1]))"
   ]
  },
  {
   "cell_type": "markdown",
   "metadata": {},
   "source": [
    "### Step 1.3: Create a Cleaning Function\n",
    "\n",
    "Even though you've finished cleaning up the general population demographics data, it's important to look ahead to the future and realize that you'll need to perform the same cleaning steps on the customer demographics data. In this substep, complete the function below to execute the main feature selection, encoding, and re-engineering steps you performed above. Then, when it comes to looking at the customer data in Step 3, you can just run this function on that DataFrame to get the trimmed dataset in a single step."
   ]
  },
  {
   "cell_type": "code",
   "execution_count": 61,
   "metadata": {},
   "outputs": [],
   "source": [
    "def clean_data(df):\n",
    "    \"\"\"\n",
    "    Perform feature trimming, re-encoding, and engineering for demographics\n",
    "    data\n",
    "    \n",
    "    INPUT: Demographics DataFrame\n",
    "    OUTPUT: Trimmed and cleaned demographics DataFrame\n",
    "    \"\"\"\n",
    "    \n",
    "    # remove outliers\n",
    "    \n",
    "    # Put in code here to execute all main cleaning steps:\n",
    "    # convert missing value codes into NaNs, ...\n",
    "    # Load in the feature summary file.\n",
    "    feat_info = pd.read_csv('AZDIAS_Feature_Summary.csv', sep = ';')\n",
    "    \n",
    "    # get only columns in df\n",
    "    all_columns = feat_info.attribute.tolist()\n",
    "    # series of column names\n",
    "    col_names = df.columns\n",
    "        \n",
    "    for column in all_columns:\n",
    "        if column not in col_names:\n",
    "            feat_info= feat_info[feat_info.attribute != column] \n",
    "    \n",
    "    feat_info['NA_tags'] = feat_info['missing_or_unknown'].apply(string_to_list)\n",
    "\n",
    "    # change missing or unknown values by np.nan in each column\n",
    "    att_index = feat_info.set_index('attribute')\n",
    "\n",
    "    for column in df.columns:\n",
    "        df[column].replace(att_index.loc[column].loc['NA_tags'],np.NaN,inplace=True)\n",
    "          \n",
    "    \n",
    "    # selected columns\n",
    "    # removing selected columns i.e. rows having > 20% of missing values\n",
    "\n",
    "    outliers = ['AGER_TYP','GEBURTSJAHR','TITEL_KZ','ALTER_HH',\n",
    "                  'KK_KUNDENTYP','KBA05_BAUMAX']\n",
    "    \n",
    "    df.drop(columns=outliers, inplace= True)\n",
    "    \n",
    "    for column in outliers:\n",
    "        feat_info= feat_info[feat_info.attribute != column]\n",
    "        \n",
    "        \n",
    "    # rows to remove with more than 25 nan\n",
    "    total_nan_row = df.isnull().sum(axis=1)\n",
    "    threshold = 25\n",
    "    subset = df[total_nan_row <= threshold]\n",
    "    \n",
    "    # remove multilevel categorical variables\n",
    "    categorical = feat_info[feat_info['type'] == 'categorical'].attribute.tolist()\n",
    "    \n",
    "    cat_variables = df[categorical].nunique()\n",
    "    multilevel = cat_variables[cat_variables > 2].index.tolist()\n",
    "    subset = subset.drop(columns=multilevel)\n",
    "    \n",
    "    for column in multilevel:\n",
    "        feat_info= feat_info[feat_info.attribute != column]\n",
    "    \n",
    "    \n",
    "    if 'LP_LEBENSPHASE_FEIN' in subset:\n",
    "        subset = subset.drop(columns='LP_LEBENSPHASE_FEIN')\n",
    "    \n",
    "    \n",
    "    # select, re-encode, and engineer column values.\n",
    "    # Re-encode categorical variable(s) to be kept in the analysis.\n",
    "    \n",
    "    if 'OST_WEST_KZ' in subset:\n",
    "        subset['OST_WEST_KZ'] = subset['OST_WEST_KZ'].replace(['W', 'O'], [0, 1])\n",
    "    \n",
    "    \n",
    "    # correct 'PRAEGENDE_JUGENDJAHRE' and 'CAMEO_INTL_2015'\n",
    "    range_variables = np.arange(-1,16)\n",
    "    decades = [np.nan, np.nan, 40, 40, 50, 50, 60, 60, 60, 70, 70, 80, 80, 80, 80, 90, 90]\n",
    "    movs = [np.nan, np.nan, 0,1,0,1,0,1,1,0,1,0,1,0,1,0,1]\n",
    "\n",
    "    dict_decade = dict(zip(range_variables, decades))\n",
    "\n",
    "    # mainstream : 0, avantgarden : 1\n",
    "    dict_mov = dict(zip(range_variables, movs))\n",
    "        \n",
    "    \n",
    "    if 'PRAEGENDE_JUGENDJAHRE' in subset:\n",
    "        decade = []\n",
    "        movement = []\n",
    "        for a in np.array(subset['PRAEGENDE_JUGENDJAHRE']):\n",
    "            if math.isnan(a):\n",
    "                decade.append(np.nan)\n",
    "                movement.append(np.nan)\n",
    "            else:\n",
    "                decade.append(dict_decade[a])\n",
    "                movement.append(dict_mov[a])\n",
    "\n",
    "        subset['PRAEGENDE_JUGENDJAHRE_DEC'] = decade\n",
    "        subset['PRAEGENDE_JUGENDJAHRE_MOV'] = movement\n",
    "        subset = subset.drop(columns = 'PRAEGENDE_JUGENDJAHRE')\n",
    "\n",
    "        ones = []\n",
    "        tens = []\n",
    "    \n",
    "    if 'CAMEO_INTL_2015' in subset:\n",
    "        for a in subset['CAMEO_INTL_2015']:\n",
    "            a = float(a)\n",
    "            if math.isnan(a):\n",
    "                ones.append(np.nan)\n",
    "                tens.append(np.nan)\n",
    "            else:\n",
    "                ones.append(a%10)\n",
    "                tens.append(int(a/10))\n",
    "\n",
    "        subset['CAMEO_INTL_2015_ONES'] = ones\n",
    "        subset['CAMEO_INTL_2015_TENS'] = tens\n",
    "        subset = subset.drop(columns = 'CAMEO_INTL_2015')\n",
    "    \n",
    "    if 'VERS_TYP' in subset:\n",
    "        subset = subset.drop(columns='VERS_TYP')\n",
    "          \n",
    "    # Return the cleaned dataframe.\n",
    "    return subset\n",
    "   "
   ]
  },
  {
   "cell_type": "code",
   "execution_count": 62,
   "metadata": {
    "scrolled": false
   },
   "outputs": [
    {
     "name": "stdout",
     "output_type": "stream",
     "text": [
      "If this is all you see, you passed the tests\n"
     ]
    }
   ],
   "source": [
    "# test clean_data() function\n",
    "# Load in the general demographics data.\n",
    "# function adapted from Udacity feedback\n",
    "azdias_0 = pd.read_csv('Udacity_AZDIAS_Subset.csv', sep = ';')\n",
    "\n",
    "azdias_clean_data = clean_data(azdias_0)\n",
    "\n",
    "\n",
    "assert azdias_clean_data.shape[0] == subset1.shape[0], \"clean_data function is not working properly, rows mismatch\"\n",
    "assert azdias_clean_data.shape[1] == subset1.shape[1], \"clean_data function is not working properly, columns mismatch\"\n",
    "print(\"If this is all you see, you passed the tests\")"
   ]
  },
  {
   "cell_type": "markdown",
   "metadata": {},
   "source": [
    "## Step 2: Feature Transformation\n",
    "\n",
    "### Step 2.1: Apply Feature Scaling\n",
    "\n",
    "Before we apply dimensionality reduction techniques to the data, we need to perform feature scaling so that the principal component vectors are not influenced by the natural differences in scale for features. Starting from this part of the project, you'll want to keep an eye on the [API reference page for sklearn](http://scikit-learn.org/stable/modules/classes.html) to help you navigate to all of the classes and functions that you'll need. In this substep, you'll need to check the following:\n",
    "\n",
    "- sklearn requires that data not have missing values in order for its estimators to work properly. So, before applying the scaler to your data, make sure that you've cleaned the DataFrame of the remaining missing values. This can be as simple as just removing all data points with missing data, or applying an [Imputer](https://scikit-learn.org/0.16/modules/generated/sklearn.preprocessing.Imputer.html) to replace all missing values. You might also try a more complicated procedure where you temporarily remove missing values in order to compute the scaling parameters before re-introducing those missing values and applying imputation. Think about how much missing data you have and what possible effects each approach might have on your analysis, and justify your decision in the discussion section below.\n",
    "- For the actual scaling function, a [StandardScaler](http://scikit-learn.org/stable/modules/generated/sklearn.preprocessing.StandardScaler.html) instance is suggested, scaling each feature to mean 0 and standard deviation 1.\n",
    "- For these classes, you can make use of the `.fit_transform()` method to both fit a procedure to the data as well as apply the transformation to the data at the same time. Don't forget to keep the fit sklearn objects handy, since you'll be applying them to the customer demographics data towards the end of the project."
   ]
  },
  {
   "cell_type": "code",
   "execution_count": 63,
   "metadata": {},
   "outputs": [
    {
     "data": {
      "text/plain": [
       "True"
      ]
     },
     "execution_count": 63,
     "metadata": {},
     "output_type": "execute_result"
    }
   ],
   "source": [
    "# If you've not yet cleaned the dataset of all NaN values, then investigate and\n",
    "# do that now.\n",
    "subset1.isnull().values.any()"
   ]
  },
  {
   "cell_type": "code",
   "execution_count": 64,
   "metadata": {},
   "outputs": [
    {
     "data": {
      "text/plain": [
       "21.899691839576118"
      ]
     },
     "execution_count": 64,
     "metadata": {},
     "output_type": "execute_result"
    }
   ],
   "source": [
    "# % of rows with nan\n",
    "(len(subset1[subset1.isnull().any(axis=1)])/len(subset1.index))*100"
   ]
  },
  {
   "cell_type": "code",
   "execution_count": 65,
   "metadata": {},
   "outputs": [
    {
     "data": {
      "text/plain": [
       "False"
      ]
     },
     "execution_count": 65,
     "metadata": {},
     "output_type": "execute_result"
    }
   ],
   "source": [
    "# subset without any nan value\n",
    "subset1_clean = subset1[~subset1.isnull().any(axis=1)]\n",
    "subset1_clean.isnull().values.any()"
   ]
  },
  {
   "cell_type": "code",
   "execution_count": 66,
   "metadata": {},
   "outputs": [
    {
     "data": {
      "text/plain": [
       "(623210, 66)"
      ]
     },
     "execution_count": 66,
     "metadata": {},
     "output_type": "execute_result"
    }
   ],
   "source": [
    "# Apply feature scaling to the general population demographics data.\n",
    "scaler = StandardScaler()\n",
    "#df_columns = subset1_clean.columns\n",
    "scaler.fit(subset1_clean)\n",
    "#subset1_scaled = subset1_clean.copy()\n",
    "subset1_scaled = scaler.transform(subset1_clean)\n",
    "subset1_scaled.shape"
   ]
  },
  {
   "cell_type": "markdown",
   "metadata": {},
   "source": [
    "### Discussion 2.1: Apply Feature Scaling\n",
    "\n",
    "the dataset had 21% of rows with nan values, so I removed those.\n",
    "I used StandardScaler(), and fit_() and transform() for feature scaling (mean 0 and standard deviation 1)"
   ]
  },
  {
   "cell_type": "markdown",
   "metadata": {},
   "source": [
    "### Step 2.2: Perform Dimensionality Reduction\n",
    "\n",
    "On your scaled data, you are now ready to apply dimensionality reduction techniques.\n",
    "\n",
    "- Use sklearn's [PCA](http://scikit-learn.org/stable/modules/generated/sklearn.decomposition.PCA.html) class to apply principal component analysis on the data, thus finding the vectors of maximal variance in the data. To start, you should not set any parameters (so all components are computed) or set a number of components that is at least half the number of features (so there's enough features to see the general trend in variability).\n",
    "- Check out the ratio of variance explained by each principal component as well as the cumulative variance explained. Try plotting the cumulative or sequential values using matplotlib's [`plot()`](https://matplotlib.org/api/_as_gen/matplotlib.pyplot.plot.html) function. Based on what you find, select a value for the number of transformed features you'll retain for the clustering part of the project.\n",
    "- Once you've made a choice for the number of components to keep, make sure you re-fit a PCA instance to perform the decided-on transformation."
   ]
  },
  {
   "cell_type": "code",
   "execution_count": 67,
   "metadata": {},
   "outputs": [
    {
     "data": {
      "text/plain": [
       "array([[  3.48498699e+00,  -2.85922762e+00,  -3.06177100e+00, ...,\n",
       "          1.89911912e-01,   1.31991823e-01,   1.17750659e-14],\n",
       "       [ -9.37551997e-01,   2.35545449e-01,  -3.03889227e+00, ...,\n",
       "          3.06961962e-02,   2.20654305e-02,  -4.52193524e-14],\n",
       "       [  3.21818268e-01,   1.13799170e-01,   3.18701465e+00, ...,\n",
       "          4.75367859e-01,   3.44632436e-01,   3.36972612e-14],\n",
       "       ..., \n",
       "       [  3.47661316e+00,  -1.99874795e+00,  -3.65724795e+00, ...,\n",
       "          6.10622281e-01,  -1.20913824e-01,   3.76584566e-16],\n",
       "       [  5.91201493e+00,  -3.34564688e+00,   2.14808205e+00, ...,\n",
       "          3.88183097e-01,  -2.19176824e-01,  -8.46302917e-16],\n",
       "       [ -7.54270899e-01,   9.83768899e-01,   2.88036632e+00, ...,\n",
       "          8.22561420e-01,   2.88786317e-01,   9.17666336e-17]])"
      ]
     },
     "execution_count": 67,
     "metadata": {},
     "output_type": "execute_result"
    }
   ],
   "source": [
    "# Apply PCA to the data.\n",
    "pca = PCA(n_components=66)\n",
    "pca.fit_transform(subset1_scaled)"
   ]
  },
  {
   "cell_type": "code",
   "execution_count": 68,
   "metadata": {
    "scrolled": true
   },
   "outputs": [
    {
     "data": {
      "image/png": "[encoded data removed]",
      "text/plain": [
       "<matplotlib.figure.Figure at 0x7fb10bef7b38>"
      ]
     },
     "metadata": {
      "needs_background": "light"
     },
     "output_type": "display_data"
    }
   ],
   "source": [
    "# Investigate the variance accounted for by each principal component.\n",
    "plt.bar(np.arange(1,67), pca.explained_variance_ratio_)\n",
    "plt.xlabel(\"# of principal component\")\n",
    "plt.ylabel(\"Explained variance ratio\")\n",
    "plt.show()"
   ]
  },
  {
   "cell_type": "code",
   "execution_count": 69,
   "metadata": {},
   "outputs": [
    {
     "data": {
      "image/png": "[encoded data removed]",
      "text/plain": [
       "<matplotlib.figure.Figure at 0x7fb10bef73c8>"
      ]
     },
     "metadata": {
      "needs_background": "light"
     },
     "output_type": "display_data"
    }
   ],
   "source": [
    "# Investigate the variance accounted for by each principal component.\n",
    "# cummulative variance explained\n",
    "cum_sums = np.cumsum(pca.explained_variance_ratio_)\n",
    "plt.plot(cum_sums)\n",
    "plt.xlabel(\"# of principal component\")\n",
    "plt.ylabel(\"Cummulative explained variance ratio\")\n",
    "plt.show()"
   ]
  },
  {
   "cell_type": "code",
   "execution_count": 70,
   "metadata": {},
   "outputs": [
    {
     "name": "stdout",
     "output_type": "stream",
     "text": [
      "Shape dim reduced data:  (623210, 22)\n",
      "Cummulative explained variance ratio:  0.814017938277\n"
     ]
    }
   ],
   "source": [
    "# Re-apply PCA to the data while selecting for number of components to retain.\n",
    "pca_reduced = PCA(n_components=22)\n",
    "pca_reduced.fit(subset1_scaled)\n",
    "pca_general_pop = pca_reduced.transform(subset1_scaled)\n",
    "\n",
    "print(\"Shape dim reduced data: \", pd.DataFrame(pca_general_pop).shape)\n",
    "\n",
    "print(\"Cummulative explained variance ratio: \", np.sum(pca_reduced.explained_variance_ratio_))"
   ]
  },
  {
   "cell_type": "markdown",
   "metadata": {},
   "source": [
    "### Discussion 2.2: Perform Dimensionality Reduction\n",
    "\n",
    "\n",
    "The dataset had 68 features, and using all those features the plot of the cummulative explained variance ratio versus # principal component shows the first 22 features account for the majority of the variance (80%) and I will retain only those for the next step of the analysis"
   ]
  },
  {
   "cell_type": "markdown",
   "metadata": {},
   "source": [
    "### Step 2.3: Interpret Principal Components\n",
    "\n",
    "Now that we have our transformed principal components, it's a nice idea to check out the weight of each variable on the first few components to see if they can be interpreted in some fashion.\n",
    "\n",
    "As a reminder, each principal component is a unit vector that points in the direction of highest variance (after accounting for the variance captured by earlier principal components). The further a weight is from zero, the more the principal component is in the direction of the corresponding feature. If two features have large weights of the same sign (both positive or both negative), then increases in one tend expect to be associated with increases in the other. To contrast, features with different signs can be expected to show a negative correlation: increases in one variable should result in a decrease in the other.\n",
    "\n",
    "- To investigate the features, you should map each weight to their corresponding feature name, then sort the features according to weight. The most interesting features for each principal component, then, will be those at the beginning and end of the sorted list. Use the data dictionary document to help you understand these most prominent features, their relationships, and what a positive or negative value on the principal component might indicate.\n",
    "- You should investigate and interpret feature associations from the first three principal components in this substep. To help facilitate this, you should write a function that you can call at any time to print the sorted list of feature weights, for the *i*-th principal component. This might come in handy in the next step of the project, when you interpret the tendencies of the discovered clusters."
   ]
  },
  {
   "cell_type": "code",
   "execution_count": 71,
   "metadata": {
    "scrolled": false
   },
   "outputs": [],
   "source": [
    "# Map weights for the first principal component to corresponding feature names\n",
    "# and then print the linked values, sorted by weight.\n",
    "# HINT: Try defining a function here or in a new cell that you can reuse in the\n",
    "# other cells.\n",
    "\n",
    "# function for mapping and print linked values, sorted by weight\n",
    "def map_weight(components = pca_reduced.components_, dataset = subset1_clean, \n",
    "               pc = 1):\n",
    "    pc_data = pd.DataFrame(components,columns=dataset.columns)\n",
    "    result = pc_data.iloc[pc-1].sort_values(ascending=False)\n",
    "    arr = np.hstack((result.index.tolist()[:3], result.index.tolist()[-3:]))\n",
    "    arr2 = np.hstack((result[:3].tolist(), result[-3:].tolist()))\n",
    "    return arr, arr2\n",
    "\n",
    "\n",
    "#pc_data = pd.DataFrame(pca_reduced.components_,columns=subset1_scaled.columns)"
   ]
  },
  {
   "cell_type": "code",
   "execution_count": 72,
   "metadata": {},
   "outputs": [],
   "source": [
    "#pc_data.head()"
   ]
  },
  {
   "cell_type": "code",
   "execution_count": 73,
   "metadata": {
    "scrolled": true
   },
   "outputs": [
    {
     "data": {
      "image/png": "[encoded data removed]",
      "text/plain": [
       "<matplotlib.figure.Figure at 0x7fb0f9e6ba90>"
      ]
     },
     "metadata": {
      "needs_background": "light"
     },
     "output_type": "display_data"
    }
   ],
   "source": [
    "pc1 = map_weight(pc=1)\n",
    "\n",
    "sns.barplot(pc1[0],pc1[1])\n",
    "plt.xticks(rotation=45, ha='right')\n",
    "plt.ylabel(\"Weight\")\n",
    "\n",
    "plt.show()"
   ]
  },
  {
   "cell_type": "markdown",
   "metadata": {},
   "source": [
    "PLZ8_ANTG3:  Number of 6-10 family houses in the PLZ8 region\n",
    "\n",
    "PLZ8_ANTG4: Number of 10+ family houses in the PLZ8 region\n",
    "\n",
    "PLZ8_BAUMAX: Most common building type within the PLZ8 region\n",
    "\n",
    "KBA05_ANTG1: number of 1-2 family houses in the microcell\n",
    "\n",
    "PLZ8_ANTG1:  Number of 1-2 family houses in the PLZ8 region\n",
    "\n",
    "MOBI_REGIO: Movement patterns\n",
    "\n",
    "PC1 related to building and how many families live in a single unit. Negative correlation between more and less families living in a unit"
   ]
  },
  {
   "cell_type": "code",
   "execution_count": 74,
   "metadata": {
    "scrolled": false
   },
   "outputs": [
    {
     "data": {
      "image/png": "[encoded data removed]",
      "text/plain": [
       "<matplotlib.figure.Figure at 0x7fb0f9ddb748>"
      ]
     },
     "metadata": {
      "needs_background": "light"
     },
     "output_type": "display_data"
    }
   ],
   "source": [
    "# Map weights for the second principal component to corresponding feature names\n",
    "# and then print the linked values, sorted by weight.\n",
    "\n",
    "pc2 = map_weight(pc=2)\n",
    "sns.barplot(pc2[0],pc2[1])\n",
    "plt.xticks(rotation=45, ha='right')\n",
    "plt.ylabel(\"Weight\")\n",
    "\n",
    "plt.show()"
   ]
  },
  {
   "cell_type": "markdown",
   "metadata": {},
   "source": [
    "ALTERSKATEGORIE_GROB: Estimated age based on given name analysis\n",
    "\n",
    "SEMIO_ERL: personality event-oriented\n",
    "\n",
    "FINANZ_VORSORGER: financial be prepared\n",
    "\n",
    "SEMIO_PFLICHT: dutiful\n",
    "\n",
    "PRAEGENDE_JUGENDJAHRE_DEC: Dominating movement of person's youth\n",
    "\n",
    "SEMIO_REL: religious\n",
    "\n",
    "PC2: Related to age of the person, how much they spend and their personalities or motivations "
   ]
  },
  {
   "cell_type": "code",
   "execution_count": 75,
   "metadata": {},
   "outputs": [
    {
     "data": {
      "image/png": "[encoded data removed]",
      "text/plain": [
       "<matplotlib.figure.Figure at 0x7fb10aa4beb8>"
      ]
     },
     "metadata": {
      "needs_background": "light"
     },
     "output_type": "display_data"
    }
   ],
   "source": [
    "# Map weights for the third principal component to corresponding feature names\n",
    "# and then print the linked values, sorted by weight.\n",
    "\n",
    "pc3 = map_weight(pc=3)\n",
    "sns.barplot(pc3[0],pc3[1])\n",
    "plt.xticks(rotation=45, ha='right')\n",
    "plt.ylabel(\"Weight\")\n",
    "\n",
    "plt.show()"
   ]
  },
  {
   "cell_type": "markdown",
   "metadata": {},
   "source": [
    "SEMIO_VERT: dreamful   \n",
    "\n",
    "SEMIO_SOZ: socially-minded    \n",
    "\n",
    "SEMIO_FAM: family-minded      \n",
    "\n",
    "\n",
    "SEMIO_DOM: dominant-minded   \n",
    "\n",
    "SEMIO_KAEM: combative attitude  \n",
    "\n",
    "ANREDE_KZ: Gender   \n",
    "\n",
    "PC3: feature related to gender and behavior in society or groups, society or independent"
   ]
  },
  {
   "cell_type": "markdown",
   "metadata": {},
   "source": [
    "### Discussion 2.3: Interpret Principal Components\n",
    "\n",
    "I analyzed the 3 first PC.\n",
    "\n",
    "PC1: how many families lives in an unit. More families per unite have positive values, and less families per unit have negative values.\n",
    "\n",
    "PC2: expenditure and mindset. People that expend more and are event-oriented have positive values, while religious or with a sense of duty persons have negative values.\n",
    "\n",
    "PC3: individualism. People more socially or family oriented have positive values, while people more individualist (dominant or combative) have negative values."
   ]
  },
  {
   "cell_type": "markdown",
   "metadata": {},
   "source": [
    "## Step 3: Clustering\n",
    "\n",
    "### Step 3.1: Apply Clustering to General Population\n",
    "\n",
    "You've assessed and cleaned the demographics data, then scaled and transformed them. Now, it's time to see how the data clusters in the principal components space. In this substep, you will apply k-means clustering to the dataset and use the average within-cluster distances from each point to their assigned cluster's centroid to decide on a number of clusters to keep.\n",
    "\n",
    "- Use sklearn's [KMeans](http://scikit-learn.org/stable/modules/generated/sklearn.cluster.KMeans.html#sklearn.cluster.KMeans) class to perform k-means clustering on the PCA-transformed data.\n",
    "- Then, compute the average difference from each point to its assigned cluster's center. **Hint**: The KMeans object's `.score()` method might be useful here, but note that in sklearn, scores tend to be defined so that larger is better. Try applying it to a small, toy dataset, or use an internet search to help your understanding.\n",
    "- Perform the above two steps for a number of different cluster counts. You can then see how the average distance decreases with an increasing number of clusters. However, each additional cluster provides a smaller net benefit. Use this fact to select a final number of clusters in which to group the data. **Warning**: because of the large size of the dataset, it can take a long time for the algorithm to resolve. The more clusters to fit, the longer the algorithm will take. You should test for cluster counts through at least 10 clusters to get the full picture, but you shouldn't need to test for a number of clusters above about 30.\n",
    "- Once you've selected a final number of clusters to use, re-fit a KMeans instance to perform the clustering operation. Make sure that you also obtain the cluster assignments for the general demographics data, since you'll be using them in the final Step 3.3."
   ]
  },
  {
   "cell_type": "code",
   "execution_count": 76,
   "metadata": {},
   "outputs": [],
   "source": [
    "# Over a number of different cluster counts...\n",
    "\n",
    "n_clusters = 15\n",
    "score = []\n",
    "    # run k-means clustering on the data and...\n",
    "for cluster in range(1,n_clusters):\n",
    "    kmeans = KMeans(n_clusters=cluster, random_state=0).fit(pca_general_pop)    \n",
    "    score.append(kmeans.score(pca_general_pop))\n"
   ]
  },
  {
   "cell_type": "code",
   "execution_count": 77,
   "metadata": {},
   "outputs": [
    {
     "data": {
      "image/png": "[encoded data removed]",
      "text/plain": [
       "<matplotlib.figure.Figure at 0x7fb0f9d32f98>"
      ]
     },
     "metadata": {
      "needs_background": "light"
     },
     "output_type": "display_data"
    }
   ],
   "source": [
    "# Investigate the change in within-cluster distance across number of clusters.\n",
    "# HINT: Use matplotlib's plot function to visualize this relationship.\n",
    "\n",
    "score_array = np.array(score)\n",
    "score_array = score_array * -1\n",
    "plt.bar(range(1,n_clusters), score_array)\n",
    "plt.xlabel(\"# of clusters\")\n",
    "plt.ylabel(\"Mean squared distance to closest centroid\")\n",
    "plt.show()\n"
   ]
  },
  {
   "cell_type": "code",
   "execution_count": 78,
   "metadata": {},
   "outputs": [],
   "source": [
    "# Re-fit the k-means model with the selected number of clusters and obtain\n",
    "# cluster predictions for the general population demographics data.\n",
    "\n",
    "# initialization of kmeans\n",
    "kmeans = KMeans(n_clusters=12, random_state=0, n_init = 50)\n",
    "\n",
    "# fit model to data\n",
    "kmeans_model = kmeans.fit(pca_general_pop)\n",
    "\n",
    "# predict labels over general pop dataset scaled and with less dimensions\n",
    "y_pred = kmeans_model.predict(pca_general_pop)"
   ]
  },
  {
   "cell_type": "markdown",
   "metadata": {},
   "source": [
    "### Discussion 3.1: Apply Clustering to General Population\n",
    "\n",
    "\n",
    "I tested clustering with 1 to 15 clusters, but the mean square distance to closest centroid did not change much from using 12 clusters."
   ]
  },
  {
   "cell_type": "markdown",
   "metadata": {},
   "source": [
    "### Step 3.2: Apply All Steps to the Customer Data\n",
    "\n",
    "Now that you have clusters and cluster centers for the general population, it's time to see how the customer data maps on to those clusters. Take care to not confuse this for re-fitting all of the models to the customer data. Instead, you're going to use the fits from the general population to clean, transform, and cluster the customer data. In the last step of the project, you will interpret how the general population fits apply to the customer data.\n",
    "\n",
    "- Don't forget when loading in the customers data, that it is semicolon (`;`) delimited.\n",
    "- Apply the same feature wrangling, selection, and engineering steps to the customer demographics using the `clean_data()` function you created earlier. (You can assume that the customer demographics data has similar meaning behind missing data patterns as the general demographics data.)\n",
    "- Use the sklearn objects from the general demographics data, and apply their transformations to the customers data. That is, you should not be using a `.fit()` or `.fit_transform()` method to re-fit the old objects, nor should you be creating new sklearn objects! Carry the data through the feature scaling, PCA, and clustering steps, obtaining cluster assignments for all of the data in the customer demographics data."
   ]
  },
  {
   "cell_type": "code",
   "execution_count": 79,
   "metadata": {},
   "outputs": [],
   "source": [
    "# Load in the customer demographics data.\n",
    "customers = pd.read_csv('Udacity_CUSTOMERS_Subset.csv', sep = ';')"
   ]
  },
  {
   "cell_type": "code",
   "execution_count": 80,
   "metadata": {},
   "outputs": [
    {
     "name": "stdout",
     "output_type": "stream",
     "text": [
      "Customer dataset shape:  (191652, 85)\n",
      "Customer dataset shape without any nan value:  (191652, 79)\n"
     ]
    }
   ],
   "source": [
    "# Apply preprocessing, feature transformation, and clustering from the general\n",
    "# demographics onto the customer data, obtaining cluster predictions for the\n",
    "# customer demographics data.\n",
    "\n",
    "print(\"Customer dataset shape: \", customers.shape)\n",
    "\n",
    "# preprocessing\n",
    "customers_preproc = []\n",
    "customers_preproc = clean_data(customers)\n",
    "\n",
    "# feature transformation\n",
    "# subset without any nan value\n",
    "customers_clean = customers_preproc[~customers_preproc.isnull().any(axis=1)]\n",
    "\n",
    "print(\"Customer dataset shape without any nan value: \", customers.shape)"
   ]
  },
  {
   "cell_type": "code",
   "execution_count": 81,
   "metadata": {},
   "outputs": [
    {
     "name": "stdout",
     "output_type": "stream",
     "text": [
      "set()\n"
     ]
    },
    {
     "data": {
      "text/plain": [
       "66"
      ]
     },
     "execution_count": 81,
     "metadata": {},
     "output_type": "execute_result"
    }
   ],
   "source": [
    "# add dummies columns to have the same columns than general population\n",
    "# function from Udacity knowleadge \n",
    "def add_missing_dummy_columns(d, columns):\n",
    "    missing_cols = set(columns) - set(d.columns)\n",
    "    print(missing_cols)\n",
    "    for c in missing_cols:\n",
    "        d[c] = 0\n",
    "           \n",
    "def fix_columns(d, columns):  \n",
    "    add_missing_dummy_columns(d, columns)\n",
    "    # make sure we have all the columns we need\n",
    "    assert(set(columns) - set(d.columns) == set())\n",
    "    extra_cols = set(d.columns) - set(columns)\n",
    "    if extra_cols:\n",
    "        print(\"extra columns:\", extra_cols)\n",
    "    d = d[columns]\n",
    "    return d\n",
    "\n",
    "customers_dummy = fix_columns(customers_clean, subset1_clean.columns.tolist())\n",
    "customers_dummy.shape[1]"
   ]
  },
  {
   "cell_type": "code",
   "execution_count": 82,
   "metadata": {},
   "outputs": [],
   "source": [
    "# Apply feature scaling to the general population demographics data.\n",
    "df_columns = customers_dummy.columns.tolist()\n",
    "customers_scaled = customers_dummy.copy()\n",
    "customers_transform = scaler.transform(customers_dummy)"
   ]
  },
  {
   "cell_type": "code",
   "execution_count": 83,
   "metadata": {},
   "outputs": [],
   "source": [
    "# labeling using previous cluster model from general population\n",
    "pca_customers = pca_reduced.transform(customers_transform)\n",
    "y_customers = kmeans_model.predict(pca_customers)"
   ]
  },
  {
   "cell_type": "markdown",
   "metadata": {},
   "source": [
    "### Step 3.3: Compare Customer Data to Demographics Data\n",
    "\n",
    "At this point, you have clustered data based on demographics of the general population of Germany, and seen how the customer data for a mail-order sales company maps onto those demographic clusters. In this final substep, you will compare the two cluster distributions to see where the strongest customer base for the company is.\n",
    "\n",
    "Consider the proportion of persons in each cluster for the general population, and the proportions for the customers. If we think the company's customer base to be universal, then the cluster assignment proportions should be fairly similar between the two. If there are only particular segments of the population that are interested in the company's products, then we should see a mismatch from one to the other. If there is a higher proportion of persons in a cluster for the customer data compared to the general population (e.g. 5% of persons are assigned to a cluster for the general population, but 15% of the customer data is closest to that cluster's centroid) then that suggests the people in that cluster to be a target audience for the company. On the other hand, the proportion of the data in a cluster being larger in the general population than the customer data (e.g. only 2% of customers closest to a population centroid that captures 6% of the data) suggests that group of persons to be outside of the target demographics.\n",
    "\n",
    "Take a look at the following points in this step:\n",
    "\n",
    "- Compute the proportion of data points in each cluster for the general population and the customer data. Visualizations will be useful here: both for the individual dataset proportions, but also to visualize the ratios in cluster representation between groups. Seaborn's [`countplot()`](https://seaborn.pydata.org/generated/seaborn.countplot.html) or [`barplot()`](https://seaborn.pydata.org/generated/seaborn.barplot.html) function could be handy.\n",
    "  - Recall the analysis you performed in step 1.1.3 of the project, where you separated out certain data points from the dataset if they had more than a specified threshold of missing values. If you found that this group was qualitatively different from the main bulk of the data, you should treat this as an additional data cluster in this analysis. Make sure that you account for the number of data points in this subset, for both the general population and customer datasets, when making your computations!\n",
    "- Which cluster or clusters are overrepresented in the customer dataset compared to the general population? Select at least one such cluster and infer what kind of people might be represented by that cluster. Use the principal component interpretations from step 2.3 or look at additional components to help you make this inference. Alternatively, you can use the `.inverse_transform()` method of the PCA and StandardScaler objects to transform centroids back to the original data space and interpret the retrieved values directly.\n",
    "- Perform a similar investigation for the underrepresented clusters. Which cluster or clusters are underrepresented in the customer dataset compared to the general population, and what kinds of people are typified by these clusters?"
   ]
  },
  {
   "cell_type": "code",
   "execution_count": 84,
   "metadata": {
    "scrolled": true
   },
   "outputs": [
    {
     "data": {
      "image/png": "[encoded data removed]",
      "text/plain": [
       "<matplotlib.figure.Figure at 0x7fb0f9c36470>"
      ]
     },
     "metadata": {
      "needs_background": "light"
     },
     "output_type": "display_data"
    }
   ],
   "source": [
    "# Compare the proportion of data in each cluster for the customer data to the\n",
    "# proportion of data in each cluster for the general population.\n",
    "\n",
    "unique_general, counts_general = np.unique(y_pred, return_counts=True)\n",
    "y_pred_ratio = counts_general / len(y_pred)\n",
    "\n",
    "unique_cus, counts_cus = np.unique(y_customers, return_counts=True)\n",
    "y_customers_ratio = counts_cus / len(y_customers)\n",
    "\n",
    "sns.barplot(x= np.arange(1,13), y=y_pred_ratio, color = 'r', label = \"general\")\n",
    "sns.barplot(x= np.arange(1,13), y=y_customers_ratio, color = 'b', \n",
    "           label = 'customers', alpha  = 0.4)\n",
    "plt.xlabel(\"cluster\")\n",
    "plt.ylabel(\"ratio\")\n",
    "plt.legend()\n",
    "\n",
    "plt.show()"
   ]
  },
  {
   "cell_type": "code",
   "execution_count": 85,
   "metadata": {},
   "outputs": [
    {
     "data": {
      "image/png": "[encoded data removed]",
      "text/plain": [
       "<matplotlib.figure.Figure at 0x7fb0f9949b00>"
      ]
     },
     "metadata": {
      "needs_background": "light"
     },
     "output_type": "display_data"
    },
    {
     "name": "stdout",
     "output_type": "stream",
     "text": [
      "Cluster overrepresented in customers:  [1, 5, 7, 12]\n",
      "Cluster underrepresented in customers:  [2, 3, 4, 6, 8, 9, 10, 11]\n"
     ]
    }
   ],
   "source": [
    "ratio_pred = counts_general/len(y_pred)\n",
    "ratio_customers = counts_cus/len(y_customers)\n",
    "ratio = ratio_customers/ratio_pred\n",
    "df_ratio = pd.DataFrame(ratio, columns = ['ratio'], index = np.arange(1,13))\n",
    "under = df_ratio[df_ratio.ratio<1].index.tolist()\n",
    "over = df_ratio[df_ratio.ratio>1].index.tolist()\n",
    "\n",
    "sns.barplot(x= df_ratio.index.tolist(), y=df_ratio.ratio)\n",
    "plt.axhline(y=1, color = 'r')\n",
    "plt.xlabel(\"# of cluser\")\n",
    "plt.ylabel(\"ratio customers / general pop\")\n",
    "plt.show()\n",
    "\n",
    "print(\"Cluster overrepresented in customers: \", over)\n",
    "print(\"Cluster underrepresented in customers: \", under)"
   ]
  },
  {
   "cell_type": "code",
   "execution_count": 86,
   "metadata": {},
   "outputs": [],
   "source": [
    "def kind_people(cluster, pca_people, y_people):\n",
    "    people_recovered = pca_reduced.inverse_transform(pca_people[y_people == cluster-1])\n",
    "    cluster_center = kmeans_model.cluster_centers_[cluster-1]\n",
    "    \n",
    "    pc_over = map_weight(components = people_recovered, pc=1)\n",
    "\n",
    "    sns.barplot(pc_over[0], pc_over[1])\n",
    "    plt.xticks(rotation=45, ha='right')\n",
    "    plt.ylabel(\"Weight\")\n",
    "\n",
    "    plt.show()"
   ]
  },
  {
   "cell_type": "code",
   "execution_count": 89,
   "metadata": {},
   "outputs": [
    {
     "data": {
      "image/png": "[encoded data removed]",
      "text/plain": [
       "<matplotlib.figure.Figure at 0x7fb0f9ab2438>"
      ]
     },
     "metadata": {
      "needs_background": "light"
     },
     "output_type": "display_data"
    }
   ],
   "source": [
    "# What kinds of people are part of a cluster that is overrepresented in the\n",
    "# customer data compared to the general population?\n",
    "\n",
    "# Overrepresented cluster in customers\n",
    "\n",
    "kind_people(7, pca_customers, y_customers)"
   ]
  },
  {
   "cell_type": "markdown",
   "metadata": {},
   "source": [
    "KBA13_ANZAHL_PKW : Number of cars in the PLZ8 region\n",
    "\n",
    "PRAEGENDE_JUGENDJAHRE_MOV: movement when people born\n",
    "\n",
    "GREEN_AVANTGARDE:  Membership in environmental sustainability as part of youth\n",
    "\n",
    "KKK:  Purchasing power in region\n",
    "\n",
    "ARBEIT: Share of unemployment in community\n",
    "\n",
    "RELAT_AB: Share of unemployment relative to county in which community is contained\n",
    "\n",
    "Cluster 7 is related with purchase power and employment"
   ]
  },
  {
   "cell_type": "code",
   "execution_count": 91,
   "metadata": {},
   "outputs": [
    {
     "data": {
      "image/png": "[encoded data removed]",
      "text/plain": [
       "<matplotlib.figure.Figure at 0x7fb0f9c57518>"
      ]
     },
     "metadata": {
      "needs_background": "light"
     },
     "output_type": "display_data"
    }
   ],
   "source": [
    "# What kinds of people are part of a cluster that is underrepresented in the\n",
    "# customer data compared to the general population?\n",
    "\n",
    "# Underrepresented cluster in customers\n",
    "\n",
    "kind_people(4, pca_customers, y_customers)"
   ]
  },
  {
   "cell_type": "markdown",
   "metadata": {},
   "source": [
    "ANZ_PERSONEN: Number of adults in household\n",
    "\n",
    "LP_LEBENSPHASE_GROB: Life stage, rough scale\n",
    "\n",
    "KBA05_ANTG2: Number of 3-5 family houses in the microcell\n",
    "\n",
    "KBA05_ANTG4:  Number of 10+ family houses in the microcell\n",
    "\n",
    "CAMEO_INTL_2015_ONES: Life stage\n",
    "\n",
    "W_KEIT_KIND_HH:  Likelihood of children in household\n",
    "\n",
    "Group 4 is related to age"
   ]
  },
  {
   "cell_type": "markdown",
   "metadata": {},
   "source": [
    "### Discussion 3.3: Compare Customer Data to Demographics Data\n",
    "\n",
    "Customers are overrepresented in the clusters 1, 5, 7 adn 12, and underrepresented in the clusters 2, 3, 4, 6, 8, 9, 10, 11. \n",
    "\n",
    "Cluster 7, an example of a cluster in which the customers are overrepresented, combine features related to purchase power and employment. Customers tend to have jobs and have more purchase power.\n",
    "\n",
    "Cluster 4, and example of a group underrepresented in the customers, combine features related to age. Customers tend to be younger."
   ]
  },
  {
   "cell_type": "markdown",
   "metadata": {},
   "source": [
    "> Congratulations on making it this far in the project! Before you finish, make sure to check through the entire notebook from top to bottom to make sure that your analysis follows a logical flow and all of your findings are documented in **Discussion** cells. Once you've checked over all of your work, you should export the notebook as an HTML document to submit for evaluation. You can do this from the menu, navigating to **File -> Download as -> HTML (.html)**. You will submit both that document and this notebook for your project submission."
   ]
  }
 ],
 "metadata": {
  "kernelspec": {
   "display_name": "Python 3",
   "language": "python",
   "name": "python3"
  },
  "language_info": {
   "codemirror_mode": {
    "name": "ipython",
    "version": 3
   },
   "file_extension": ".py",
   "mimetype": "text/x-python",
   "name": "python",
   "nbconvert_exporter": "python",
   "pygments_lexer": "ipython3",
   "version": "3.6.3"
  }
 },
 "nbformat": 4,
 "nbformat_minor": 2
}
